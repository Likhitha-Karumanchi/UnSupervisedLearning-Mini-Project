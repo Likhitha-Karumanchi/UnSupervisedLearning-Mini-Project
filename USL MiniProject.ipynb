{
 "cells": [
  {
   "cell_type": "code",
   "execution_count": 2,
   "id": "db643560",
   "metadata": {},
   "outputs": [],
   "source": [
    "import numpy as np\n",
    "import matplotlib.pyplot as plt\n",
    "import pandas as pd\n",
    "import seaborn as sns\n",
    "import warnings\n",
    "warnings.filterwarnings('ignore')"
   ]
  },
  {
   "cell_type": "code",
   "execution_count": 3,
   "id": "8a0a3241",
   "metadata": {},
   "outputs": [
    {
     "data": {
      "text/html": [
       "<div>\n",
       "<style scoped>\n",
       "    .dataframe tbody tr th:only-of-type {\n",
       "        vertical-align: middle;\n",
       "    }\n",
       "\n",
       "    .dataframe tbody tr th {\n",
       "        vertical-align: top;\n",
       "    }\n",
       "\n",
       "    .dataframe thead th {\n",
       "        text-align: right;\n",
       "    }\n",
       "</style>\n",
       "<table border=\"1\" class=\"dataframe\">\n",
       "  <thead>\n",
       "    <tr style=\"text-align: right;\">\n",
       "      <th></th>\n",
       "      <th>Administrative</th>\n",
       "      <th>Administrative_Duration</th>\n",
       "      <th>Informational</th>\n",
       "      <th>Informational_Duration</th>\n",
       "      <th>ProductRelated</th>\n",
       "      <th>ProductRelated_Duration</th>\n",
       "      <th>BounceRates</th>\n",
       "      <th>ExitRates</th>\n",
       "      <th>PageValues</th>\n",
       "      <th>SpecialDay</th>\n",
       "      <th>Month</th>\n",
       "      <th>OperatingSystems</th>\n",
       "      <th>Browser</th>\n",
       "      <th>Region</th>\n",
       "      <th>TrafficType</th>\n",
       "      <th>VisitorType</th>\n",
       "      <th>Weekend</th>\n",
       "      <th>Revenue</th>\n",
       "    </tr>\n",
       "  </thead>\n",
       "  <tbody>\n",
       "    <tr>\n",
       "      <th>0</th>\n",
       "      <td>0</td>\n",
       "      <td>0.0</td>\n",
       "      <td>0</td>\n",
       "      <td>0.0</td>\n",
       "      <td>1</td>\n",
       "      <td>0.000000</td>\n",
       "      <td>0.20</td>\n",
       "      <td>0.20</td>\n",
       "      <td>0.0</td>\n",
       "      <td>0.0</td>\n",
       "      <td>Feb</td>\n",
       "      <td>1</td>\n",
       "      <td>1</td>\n",
       "      <td>1</td>\n",
       "      <td>1</td>\n",
       "      <td>Returning_Visitor</td>\n",
       "      <td>False</td>\n",
       "      <td>False</td>\n",
       "    </tr>\n",
       "    <tr>\n",
       "      <th>1</th>\n",
       "      <td>0</td>\n",
       "      <td>0.0</td>\n",
       "      <td>0</td>\n",
       "      <td>0.0</td>\n",
       "      <td>2</td>\n",
       "      <td>64.000000</td>\n",
       "      <td>0.00</td>\n",
       "      <td>0.10</td>\n",
       "      <td>0.0</td>\n",
       "      <td>0.0</td>\n",
       "      <td>Feb</td>\n",
       "      <td>2</td>\n",
       "      <td>2</td>\n",
       "      <td>1</td>\n",
       "      <td>2</td>\n",
       "      <td>Returning_Visitor</td>\n",
       "      <td>False</td>\n",
       "      <td>False</td>\n",
       "    </tr>\n",
       "    <tr>\n",
       "      <th>2</th>\n",
       "      <td>0</td>\n",
       "      <td>0.0</td>\n",
       "      <td>0</td>\n",
       "      <td>0.0</td>\n",
       "      <td>1</td>\n",
       "      <td>0.000000</td>\n",
       "      <td>0.20</td>\n",
       "      <td>0.20</td>\n",
       "      <td>0.0</td>\n",
       "      <td>0.0</td>\n",
       "      <td>Feb</td>\n",
       "      <td>4</td>\n",
       "      <td>1</td>\n",
       "      <td>9</td>\n",
       "      <td>3</td>\n",
       "      <td>Returning_Visitor</td>\n",
       "      <td>False</td>\n",
       "      <td>False</td>\n",
       "    </tr>\n",
       "    <tr>\n",
       "      <th>3</th>\n",
       "      <td>0</td>\n",
       "      <td>0.0</td>\n",
       "      <td>0</td>\n",
       "      <td>0.0</td>\n",
       "      <td>2</td>\n",
       "      <td>2.666667</td>\n",
       "      <td>0.05</td>\n",
       "      <td>0.14</td>\n",
       "      <td>0.0</td>\n",
       "      <td>0.0</td>\n",
       "      <td>Feb</td>\n",
       "      <td>3</td>\n",
       "      <td>2</td>\n",
       "      <td>2</td>\n",
       "      <td>4</td>\n",
       "      <td>Returning_Visitor</td>\n",
       "      <td>False</td>\n",
       "      <td>False</td>\n",
       "    </tr>\n",
       "    <tr>\n",
       "      <th>4</th>\n",
       "      <td>0</td>\n",
       "      <td>0.0</td>\n",
       "      <td>0</td>\n",
       "      <td>0.0</td>\n",
       "      <td>10</td>\n",
       "      <td>627.500000</td>\n",
       "      <td>0.02</td>\n",
       "      <td>0.05</td>\n",
       "      <td>0.0</td>\n",
       "      <td>0.0</td>\n",
       "      <td>Feb</td>\n",
       "      <td>3</td>\n",
       "      <td>3</td>\n",
       "      <td>1</td>\n",
       "      <td>4</td>\n",
       "      <td>Returning_Visitor</td>\n",
       "      <td>True</td>\n",
       "      <td>False</td>\n",
       "    </tr>\n",
       "  </tbody>\n",
       "</table>\n",
       "</div>"
      ],
      "text/plain": [
       "   Administrative  Administrative_Duration  Informational  \\\n",
       "0               0                      0.0              0   \n",
       "1               0                      0.0              0   \n",
       "2               0                      0.0              0   \n",
       "3               0                      0.0              0   \n",
       "4               0                      0.0              0   \n",
       "\n",
       "   Informational_Duration  ProductRelated  ProductRelated_Duration  \\\n",
       "0                     0.0               1                 0.000000   \n",
       "1                     0.0               2                64.000000   \n",
       "2                     0.0               1                 0.000000   \n",
       "3                     0.0               2                 2.666667   \n",
       "4                     0.0              10               627.500000   \n",
       "\n",
       "   BounceRates  ExitRates  PageValues  SpecialDay Month  OperatingSystems  \\\n",
       "0         0.20       0.20         0.0         0.0   Feb                 1   \n",
       "1         0.00       0.10         0.0         0.0   Feb                 2   \n",
       "2         0.20       0.20         0.0         0.0   Feb                 4   \n",
       "3         0.05       0.14         0.0         0.0   Feb                 3   \n",
       "4         0.02       0.05         0.0         0.0   Feb                 3   \n",
       "\n",
       "   Browser  Region  TrafficType        VisitorType  Weekend  Revenue  \n",
       "0        1       1            1  Returning_Visitor    False    False  \n",
       "1        2       1            2  Returning_Visitor    False    False  \n",
       "2        1       9            3  Returning_Visitor    False    False  \n",
       "3        2       2            4  Returning_Visitor    False    False  \n",
       "4        3       1            4  Returning_Visitor     True    False  "
      ]
     },
     "execution_count": 3,
     "metadata": {},
     "output_type": "execute_result"
    }
   ],
   "source": [
    "df = pd.read_csv('online_shoppers_intention.csv')\n",
    "df.head()"
   ]
  },
  {
   "cell_type": "code",
   "execution_count": 4,
   "id": "8e039267",
   "metadata": {},
   "outputs": [
    {
     "name": "stdout",
     "output_type": "stream",
     "text": [
      "<class 'pandas.core.frame.DataFrame'>\n",
      "RangeIndex: 12330 entries, 0 to 12329\n",
      "Data columns (total 18 columns):\n",
      " #   Column                   Non-Null Count  Dtype  \n",
      "---  ------                   --------------  -----  \n",
      " 0   Administrative           12330 non-null  int64  \n",
      " 1   Administrative_Duration  12330 non-null  float64\n",
      " 2   Informational            12330 non-null  int64  \n",
      " 3   Informational_Duration   12330 non-null  float64\n",
      " 4   ProductRelated           12330 non-null  int64  \n",
      " 5   ProductRelated_Duration  12330 non-null  float64\n",
      " 6   BounceRates              12330 non-null  float64\n",
      " 7   ExitRates                12330 non-null  float64\n",
      " 8   PageValues               12330 non-null  float64\n",
      " 9   SpecialDay               12330 non-null  float64\n",
      " 10  Month                    12330 non-null  object \n",
      " 11  OperatingSystems         12330 non-null  int64  \n",
      " 12  Browser                  12330 non-null  int64  \n",
      " 13  Region                   12330 non-null  int64  \n",
      " 14  TrafficType              12330 non-null  int64  \n",
      " 15  VisitorType              12330 non-null  object \n",
      " 16  Weekend                  12330 non-null  bool   \n",
      " 17  Revenue                  12330 non-null  bool   \n",
      "dtypes: bool(2), float64(7), int64(7), object(2)\n",
      "memory usage: 1.5+ MB\n"
     ]
    }
   ],
   "source": [
    "df.info()"
   ]
  },
  {
   "cell_type": "code",
   "execution_count": 5,
   "id": "23e1c08a",
   "metadata": {},
   "outputs": [
    {
     "data": {
      "text/plain": [
       "(12330, 18)"
      ]
     },
     "execution_count": 5,
     "metadata": {},
     "output_type": "execute_result"
    }
   ],
   "source": [
    "df.shape"
   ]
  },
  {
   "cell_type": "code",
   "execution_count": 6,
   "id": "478ccb47",
   "metadata": {},
   "outputs": [
    {
     "data": {
      "text/plain": [
       "Administrative               int64\n",
       "Administrative_Duration    float64\n",
       "Informational                int64\n",
       "Informational_Duration     float64\n",
       "ProductRelated               int64\n",
       "ProductRelated_Duration    float64\n",
       "BounceRates                float64\n",
       "ExitRates                  float64\n",
       "PageValues                 float64\n",
       "SpecialDay                 float64\n",
       "Month                       object\n",
       "OperatingSystems             int64\n",
       "Browser                      int64\n",
       "Region                       int64\n",
       "TrafficType                  int64\n",
       "VisitorType                 object\n",
       "Weekend                       bool\n",
       "Revenue                       bool\n",
       "dtype: object"
      ]
     },
     "execution_count": 6,
     "metadata": {},
     "output_type": "execute_result"
    }
   ],
   "source": [
    "df.dtypes"
   ]
  },
  {
   "cell_type": "code",
   "execution_count": 7,
   "id": "9a427d4b",
   "metadata": {},
   "outputs": [],
   "source": [
    "df['Weekend'] = df['Weekend'].astype(str)\n",
    "df['Revenue'] = df['Revenue'].astype(str)"
   ]
  },
  {
   "cell_type": "code",
   "execution_count": 8,
   "id": "756d8d69",
   "metadata": {},
   "outputs": [
    {
     "data": {
      "text/plain": [
       "Administrative               int64\n",
       "Administrative_Duration    float64\n",
       "Informational                int64\n",
       "Informational_Duration     float64\n",
       "ProductRelated               int64\n",
       "ProductRelated_Duration    float64\n",
       "BounceRates                float64\n",
       "ExitRates                  float64\n",
       "PageValues                 float64\n",
       "SpecialDay                 float64\n",
       "Month                       object\n",
       "OperatingSystems             int64\n",
       "Browser                      int64\n",
       "Region                       int64\n",
       "TrafficType                  int64\n",
       "VisitorType                 object\n",
       "Weekend                     object\n",
       "Revenue                     object\n",
       "dtype: object"
      ]
     },
     "execution_count": 8,
     "metadata": {},
     "output_type": "execute_result"
    }
   ],
   "source": [
    "df.dtypes"
   ]
  },
  {
   "cell_type": "code",
   "execution_count": 9,
   "id": "505d86b3",
   "metadata": {},
   "outputs": [
    {
     "data": {
      "text/html": [
       "<div>\n",
       "<style scoped>\n",
       "    .dataframe tbody tr th:only-of-type {\n",
       "        vertical-align: middle;\n",
       "    }\n",
       "\n",
       "    .dataframe tbody tr th {\n",
       "        vertical-align: top;\n",
       "    }\n",
       "\n",
       "    .dataframe thead th {\n",
       "        text-align: right;\n",
       "    }\n",
       "</style>\n",
       "<table border=\"1\" class=\"dataframe\">\n",
       "  <thead>\n",
       "    <tr style=\"text-align: right;\">\n",
       "      <th></th>\n",
       "      <th>Administrative</th>\n",
       "      <th>Administrative_Duration</th>\n",
       "      <th>Informational</th>\n",
       "      <th>Informational_Duration</th>\n",
       "      <th>ProductRelated</th>\n",
       "      <th>ProductRelated_Duration</th>\n",
       "      <th>BounceRates</th>\n",
       "      <th>ExitRates</th>\n",
       "      <th>PageValues</th>\n",
       "      <th>SpecialDay</th>\n",
       "      <th>OperatingSystems</th>\n",
       "      <th>Browser</th>\n",
       "      <th>Region</th>\n",
       "      <th>TrafficType</th>\n",
       "    </tr>\n",
       "  </thead>\n",
       "  <tbody>\n",
       "    <tr>\n",
       "      <th>count</th>\n",
       "      <td>12330.000000</td>\n",
       "      <td>12330.000000</td>\n",
       "      <td>12330.000000</td>\n",
       "      <td>12330.000000</td>\n",
       "      <td>12330.000000</td>\n",
       "      <td>12330.000000</td>\n",
       "      <td>12330.000000</td>\n",
       "      <td>12330.000000</td>\n",
       "      <td>12330.000000</td>\n",
       "      <td>12330.000000</td>\n",
       "      <td>12330.000000</td>\n",
       "      <td>12330.000000</td>\n",
       "      <td>12330.000000</td>\n",
       "      <td>12330.000000</td>\n",
       "    </tr>\n",
       "    <tr>\n",
       "      <th>mean</th>\n",
       "      <td>2.315166</td>\n",
       "      <td>80.818611</td>\n",
       "      <td>0.503569</td>\n",
       "      <td>34.472398</td>\n",
       "      <td>31.731468</td>\n",
       "      <td>1194.746220</td>\n",
       "      <td>0.022191</td>\n",
       "      <td>0.043073</td>\n",
       "      <td>5.889258</td>\n",
       "      <td>0.061427</td>\n",
       "      <td>2.124006</td>\n",
       "      <td>2.357097</td>\n",
       "      <td>3.147364</td>\n",
       "      <td>4.069586</td>\n",
       "    </tr>\n",
       "    <tr>\n",
       "      <th>std</th>\n",
       "      <td>3.321784</td>\n",
       "      <td>176.779107</td>\n",
       "      <td>1.270156</td>\n",
       "      <td>140.749294</td>\n",
       "      <td>44.475503</td>\n",
       "      <td>1913.669288</td>\n",
       "      <td>0.048488</td>\n",
       "      <td>0.048597</td>\n",
       "      <td>18.568437</td>\n",
       "      <td>0.198917</td>\n",
       "      <td>0.911325</td>\n",
       "      <td>1.717277</td>\n",
       "      <td>2.401591</td>\n",
       "      <td>4.025169</td>\n",
       "    </tr>\n",
       "    <tr>\n",
       "      <th>min</th>\n",
       "      <td>0.000000</td>\n",
       "      <td>0.000000</td>\n",
       "      <td>0.000000</td>\n",
       "      <td>0.000000</td>\n",
       "      <td>0.000000</td>\n",
       "      <td>0.000000</td>\n",
       "      <td>0.000000</td>\n",
       "      <td>0.000000</td>\n",
       "      <td>0.000000</td>\n",
       "      <td>0.000000</td>\n",
       "      <td>1.000000</td>\n",
       "      <td>1.000000</td>\n",
       "      <td>1.000000</td>\n",
       "      <td>1.000000</td>\n",
       "    </tr>\n",
       "    <tr>\n",
       "      <th>25%</th>\n",
       "      <td>0.000000</td>\n",
       "      <td>0.000000</td>\n",
       "      <td>0.000000</td>\n",
       "      <td>0.000000</td>\n",
       "      <td>7.000000</td>\n",
       "      <td>184.137500</td>\n",
       "      <td>0.000000</td>\n",
       "      <td>0.014286</td>\n",
       "      <td>0.000000</td>\n",
       "      <td>0.000000</td>\n",
       "      <td>2.000000</td>\n",
       "      <td>2.000000</td>\n",
       "      <td>1.000000</td>\n",
       "      <td>2.000000</td>\n",
       "    </tr>\n",
       "    <tr>\n",
       "      <th>50%</th>\n",
       "      <td>1.000000</td>\n",
       "      <td>7.500000</td>\n",
       "      <td>0.000000</td>\n",
       "      <td>0.000000</td>\n",
       "      <td>18.000000</td>\n",
       "      <td>598.936905</td>\n",
       "      <td>0.003112</td>\n",
       "      <td>0.025156</td>\n",
       "      <td>0.000000</td>\n",
       "      <td>0.000000</td>\n",
       "      <td>2.000000</td>\n",
       "      <td>2.000000</td>\n",
       "      <td>3.000000</td>\n",
       "      <td>2.000000</td>\n",
       "    </tr>\n",
       "    <tr>\n",
       "      <th>75%</th>\n",
       "      <td>4.000000</td>\n",
       "      <td>93.256250</td>\n",
       "      <td>0.000000</td>\n",
       "      <td>0.000000</td>\n",
       "      <td>38.000000</td>\n",
       "      <td>1464.157214</td>\n",
       "      <td>0.016813</td>\n",
       "      <td>0.050000</td>\n",
       "      <td>0.000000</td>\n",
       "      <td>0.000000</td>\n",
       "      <td>3.000000</td>\n",
       "      <td>2.000000</td>\n",
       "      <td>4.000000</td>\n",
       "      <td>4.000000</td>\n",
       "    </tr>\n",
       "    <tr>\n",
       "      <th>max</th>\n",
       "      <td>27.000000</td>\n",
       "      <td>3398.750000</td>\n",
       "      <td>24.000000</td>\n",
       "      <td>2549.375000</td>\n",
       "      <td>705.000000</td>\n",
       "      <td>63973.522230</td>\n",
       "      <td>0.200000</td>\n",
       "      <td>0.200000</td>\n",
       "      <td>361.763742</td>\n",
       "      <td>1.000000</td>\n",
       "      <td>8.000000</td>\n",
       "      <td>13.000000</td>\n",
       "      <td>9.000000</td>\n",
       "      <td>20.000000</td>\n",
       "    </tr>\n",
       "  </tbody>\n",
       "</table>\n",
       "</div>"
      ],
      "text/plain": [
       "       Administrative  Administrative_Duration  Informational  \\\n",
       "count    12330.000000             12330.000000   12330.000000   \n",
       "mean         2.315166                80.818611       0.503569   \n",
       "std          3.321784               176.779107       1.270156   \n",
       "min          0.000000                 0.000000       0.000000   \n",
       "25%          0.000000                 0.000000       0.000000   \n",
       "50%          1.000000                 7.500000       0.000000   \n",
       "75%          4.000000                93.256250       0.000000   \n",
       "max         27.000000              3398.750000      24.000000   \n",
       "\n",
       "       Informational_Duration  ProductRelated  ProductRelated_Duration  \\\n",
       "count            12330.000000    12330.000000             12330.000000   \n",
       "mean                34.472398       31.731468              1194.746220   \n",
       "std                140.749294       44.475503              1913.669288   \n",
       "min                  0.000000        0.000000                 0.000000   \n",
       "25%                  0.000000        7.000000               184.137500   \n",
       "50%                  0.000000       18.000000               598.936905   \n",
       "75%                  0.000000       38.000000              1464.157214   \n",
       "max               2549.375000      705.000000             63973.522230   \n",
       "\n",
       "        BounceRates     ExitRates    PageValues    SpecialDay  \\\n",
       "count  12330.000000  12330.000000  12330.000000  12330.000000   \n",
       "mean       0.022191      0.043073      5.889258      0.061427   \n",
       "std        0.048488      0.048597     18.568437      0.198917   \n",
       "min        0.000000      0.000000      0.000000      0.000000   \n",
       "25%        0.000000      0.014286      0.000000      0.000000   \n",
       "50%        0.003112      0.025156      0.000000      0.000000   \n",
       "75%        0.016813      0.050000      0.000000      0.000000   \n",
       "max        0.200000      0.200000    361.763742      1.000000   \n",
       "\n",
       "       OperatingSystems       Browser        Region   TrafficType  \n",
       "count      12330.000000  12330.000000  12330.000000  12330.000000  \n",
       "mean           2.124006      2.357097      3.147364      4.069586  \n",
       "std            0.911325      1.717277      2.401591      4.025169  \n",
       "min            1.000000      1.000000      1.000000      1.000000  \n",
       "25%            2.000000      2.000000      1.000000      2.000000  \n",
       "50%            2.000000      2.000000      3.000000      2.000000  \n",
       "75%            3.000000      2.000000      4.000000      4.000000  \n",
       "max            8.000000     13.000000      9.000000     20.000000  "
      ]
     },
     "execution_count": 9,
     "metadata": {},
     "output_type": "execute_result"
    }
   ],
   "source": [
    "df.describe()"
   ]
  },
  {
   "cell_type": "markdown",
   "id": "32c70111",
   "metadata": {},
   "source": [
    "### Missing Values"
   ]
  },
  {
   "cell_type": "code",
   "execution_count": 10,
   "id": "cd72b620",
   "metadata": {},
   "outputs": [
    {
     "data": {
      "text/plain": [
       "Administrative             0\n",
       "Administrative_Duration    0\n",
       "Informational              0\n",
       "Informational_Duration     0\n",
       "ProductRelated             0\n",
       "ProductRelated_Duration    0\n",
       "BounceRates                0\n",
       "ExitRates                  0\n",
       "PageValues                 0\n",
       "SpecialDay                 0\n",
       "Month                      0\n",
       "OperatingSystems           0\n",
       "Browser                    0\n",
       "Region                     0\n",
       "TrafficType                0\n",
       "VisitorType                0\n",
       "Weekend                    0\n",
       "Revenue                    0\n",
       "dtype: int64"
      ]
     },
     "execution_count": 10,
     "metadata": {},
     "output_type": "execute_result"
    }
   ],
   "source": [
    "df.isnull().sum()"
   ]
  },
  {
   "cell_type": "code",
   "execution_count": 11,
   "id": "c79fae01",
   "metadata": {},
   "outputs": [],
   "source": [
    "#No Missing Values"
   ]
  },
  {
   "cell_type": "markdown",
   "id": "ae0beb19",
   "metadata": {},
   "source": [
    "### Outlier Analysis"
   ]
  },
  {
   "cell_type": "code",
   "execution_count": 12,
   "id": "ba55f534",
   "metadata": {},
   "outputs": [
    {
     "data": {
      "image/png": "[encoded data removed]",
      "text/plain": [
       "<Figure size 432x288 with 1 Axes>"
      ]
     },
     "metadata": {
      "needs_background": "light"
     },
     "output_type": "display_data"
    },
    {
     "data": {
      "image/png": "[encoded data removed]",
      "text/plain": [
       "<Figure size 432x288 with 1 Axes>"
      ]
     },
     "metadata": {
      "needs_background": "light"
     },
     "output_type": "display_data"
    },
    {
     "data": {
      "image/png": "[encoded data removed]",
      "text/plain": [
       "<Figure size 432x288 with 1 Axes>"
      ]
     },
     "metadata": {
      "needs_background": "light"
     },
     "output_type": "display_data"
    },
    {
     "data": {
      "image/png": "[encoded data removed]",
      "text/plain": [
       "<Figure size 432x288 with 1 Axes>"
      ]
     },
     "metadata": {
      "needs_background": "light"
     },
     "output_type": "display_data"
    },
    {
     "data": {
      "image/png": "[encoded data removed]",
      "text/plain": [
       "<Figure size 432x288 with 1 Axes>"
      ]
     },
     "metadata": {
      "needs_background": "light"
     },
     "output_type": "display_data"
    },
    {
     "data": {
      "image/png": "[encoded data removed]",
      "text/plain": [
       "<Figure size 432x288 with 1 Axes>"
      ]
     },
     "metadata": {
      "needs_background": "light"
     },
     "output_type": "display_data"
    },
    {
     "data": {
      "image/png": "[encoded data removed]",
      "text/plain": [
       "<Figure size 432x288 with 1 Axes>"
      ]
     },
     "metadata": {
      "needs_background": "light"
     },
     "output_type": "display_data"
    },
    {
     "data": {
      "image/png": "[encoded data removed]",
      "text/plain": [
       "<Figure size 432x288 with 1 Axes>"
      ]
     },
     "metadata": {
      "needs_background": "light"
     },
     "output_type": "display_data"
    },
    {
     "data": {
      "image/png": "[encoded data removed]",
      "text/plain": [
       "<Figure size 432x288 with 1 Axes>"
      ]
     },
     "metadata": {
      "needs_background": "light"
     },
     "output_type": "display_data"
    },
    {
     "data": {
      "image/png": "[encoded data removed]",
      "text/plain": [
       "<Figure size 432x288 with 1 Axes>"
      ]
     },
     "metadata": {
      "needs_background": "light"
     },
     "output_type": "display_data"
    },
    {
     "data": {
      "image/png": "[encoded data removed]",
      "text/plain": [
       "<Figure size 432x288 with 1 Axes>"
      ]
     },
     "metadata": {
      "needs_background": "light"
     },
     "output_type": "display_data"
    },
    {
     "data": {
      "image/png": "[encoded data removed]",
      "text/plain": [
       "<Figure size 432x288 with 1 Axes>"
      ]
     },
     "metadata": {
      "needs_background": "light"
     },
     "output_type": "display_data"
    },
    {
     "data": {
      "image/png": "[encoded data removed]",
      "text/plain": [
       "<Figure size 432x288 with 1 Axes>"
      ]
     },
     "metadata": {
      "needs_background": "light"
     },
     "output_type": "display_data"
    },
    {
     "data": {
      "image/png": "[encoded data removed]",
      "text/plain": [
       "<Figure size 432x288 with 1 Axes>"
      ]
     },
     "metadata": {
      "needs_background": "light"
     },
     "output_type": "display_data"
    }
   ],
   "source": [
    "df_num = df.select_dtypes(np.number)\n",
    "for i in df_num.columns:\n",
    "    sns.boxplot(df_num[i])\n",
    "    plt.show()"
   ]
  },
  {
   "cell_type": "code",
   "execution_count": 13,
   "id": "55eb8061",
   "metadata": {},
   "outputs": [],
   "source": [
    "#lot of outliers so dont remove"
   ]
  },
  {
   "cell_type": "markdown",
   "id": "2332ccbb",
   "metadata": {},
   "source": [
    "### Distribution"
   ]
  },
  {
   "cell_type": "code",
   "execution_count": 14,
   "id": "fe15f8bb",
   "metadata": {},
   "outputs": [
    {
     "data": {
      "image/png": "[encoded data removed]",
      "text/plain": [
       "<Figure size 1080x1440 with 16 Axes>"
      ]
     },
     "metadata": {
      "needs_background": "light"
     },
     "output_type": "display_data"
    }
   ],
   "source": [
    "fig = plt.figure(figsize=(15,20))\n",
    "ax = fig.gca()\n",
    "df.hist(ax=ax)\n",
    "plt.show()"
   ]
  },
  {
   "cell_type": "code",
   "execution_count": 15,
   "id": "5a9c01f5",
   "metadata": {},
   "outputs": [
    {
     "data": {
      "text/plain": [
       "Administrative             1.960357\n",
       "Administrative_Duration    5.615719\n",
       "Informational              4.036464\n",
       "Informational_Duration     7.579185\n",
       "ProductRelated             4.341516\n",
       "ProductRelated_Duration    7.263228\n",
       "BounceRates                2.947855\n",
       "ExitRates                  2.148789\n",
       "PageValues                 6.382964\n",
       "SpecialDay                 3.302667\n",
       "OperatingSystems           2.066285\n",
       "Browser                    3.242350\n",
       "Region                     0.983549\n",
       "TrafficType                1.962987\n",
       "dtype: float64"
      ]
     },
     "execution_count": 15,
     "metadata": {},
     "output_type": "execute_result"
    }
   ],
   "source": [
    "df.skew()"
   ]
  },
  {
   "cell_type": "code",
   "execution_count": 16,
   "id": "e5b653b0",
   "metadata": {},
   "outputs": [],
   "source": [
    "#All features are positively skewed"
   ]
  },
  {
   "cell_type": "markdown",
   "id": "5fbfbfdd",
   "metadata": {},
   "source": [
    "### Univariate "
   ]
  },
  {
   "cell_type": "code",
   "execution_count": 17,
   "id": "6efaecc7",
   "metadata": {},
   "outputs": [
    {
     "name": "stdout",
     "output_type": "stream",
     "text": [
      "Month\n",
      "May     3364\n",
      "Nov     2998\n",
      "Mar     1907\n",
      "Dec     1727\n",
      "Oct      549\n",
      "Sep      448\n",
      "Aug      433\n",
      "Jul      432\n",
      "June     288\n",
      "Feb      184\n",
      "Name: Month, dtype: int64\n"
     ]
    },
    {
     "data": {
      "image/png": "[encoded data removed]",
      "text/plain": [
       "<Figure size 432x288 with 1 Axes>"
      ]
     },
     "metadata": {
      "needs_background": "light"
     },
     "output_type": "display_data"
    },
    {
     "name": "stdout",
     "output_type": "stream",
     "text": [
      "VisitorType\n",
      "Returning_Visitor    10551\n",
      "New_Visitor           1694\n",
      "Other                   85\n",
      "Name: VisitorType, dtype: int64\n"
     ]
    },
    {
     "data": {
      "image/png": "[encoded data removed]",
      "text/plain": [
       "<Figure size 432x288 with 1 Axes>"
      ]
     },
     "metadata": {
      "needs_background": "light"
     },
     "output_type": "display_data"
    },
    {
     "name": "stdout",
     "output_type": "stream",
     "text": [
      "Weekend\n",
      "False    9462\n",
      "True     2868\n",
      "Name: Weekend, dtype: int64\n"
     ]
    },
    {
     "data": {
      "image/png": "[encoded data removed]",
      "text/plain": [
       "<Figure size 432x288 with 1 Axes>"
      ]
     },
     "metadata": {
      "needs_background": "light"
     },
     "output_type": "display_data"
    },
    {
     "name": "stdout",
     "output_type": "stream",
     "text": [
      "Revenue\n",
      "False    10422\n",
      "True      1908\n",
      "Name: Revenue, dtype: int64\n"
     ]
    },
    {
     "data": {
      "image/png": "[encoded data removed]",
      "text/plain": [
       "<Figure size 432x288 with 1 Axes>"
      ]
     },
     "metadata": {
      "needs_background": "light"
     },
     "output_type": "display_data"
    }
   ],
   "source": [
    "df_cat = df.select_dtypes(object)\n",
    "for i in df_cat.columns:\n",
    "    print(i)\n",
    "    print(df[i].value_counts())\n",
    "    sns.countplot(df[i])\n",
    "    plt.show()"
   ]
  },
  {
   "cell_type": "markdown",
   "id": "efc9b884",
   "metadata": {},
   "source": [
    "### Bivariate"
   ]
  },
  {
   "cell_type": "markdown",
   "id": "ff586c3e",
   "metadata": {},
   "source": [
    "#### Administrative_Duration vs Revenue"
   ]
  },
  {
   "cell_type": "code",
   "execution_count": 18,
   "id": "9b10a2f1",
   "metadata": {},
   "outputs": [
    {
     "data": {
      "image/png": "[encoded data removed]",
      "text/plain": [
       "<Figure size 576x360 with 1 Axes>"
      ]
     },
     "metadata": {
      "needs_background": "light"
     },
     "output_type": "display_data"
    }
   ],
   "source": [
    "plt.rcParams['figure.figsize'] = (8, 5)\n",
    "\n",
    "sns.boxenplot(df['Administrative_Duration'], df['Revenue'], palette = 'pastel', orient='h')\n",
    "plt.title('Admin. duration vs Revenue', fontsize = 30)\n",
    "plt.xlabel('Admin. duration', fontsize = 15)\n",
    "plt.ylabel('Revenue', fontsize = 15)\n",
    "plt.show()"
   ]
  },
  {
   "cell_type": "markdown",
   "id": "a971d463",
   "metadata": {},
   "source": [
    "1. We see here Administrative_Duration is exponentially distributed for both purchased(True) or not puchased(False).\n",
    "2. We also see there are so many outliers in not puchased(False) according to Administrative_Duration."
   ]
  },
  {
   "cell_type": "markdown",
   "id": "a76813e3",
   "metadata": {},
   "source": [
    "#### Informational_Duration vs Revenue"
   ]
  },
  {
   "cell_type": "code",
   "execution_count": 19,
   "id": "da1491df",
   "metadata": {},
   "outputs": [
    {
     "data": {
      "image/png": "[encoded data removed]",
      "text/plain": [
       "<Figure size 576x360 with 1 Axes>"
      ]
     },
     "metadata": {
      "needs_background": "light"
     },
     "output_type": "display_data"
    }
   ],
   "source": [
    "plt.rcParams['figure.figsize'] = (8, 5)\n",
    "\n",
    "sns.boxenplot(df['Informational_Duration'], df['Revenue'], palette = 'rainbow', orient = 'h')\n",
    "plt.title('Info. duration vs Revenue', fontsize = 30)\n",
    "plt.xlabel('Info. duration', fontsize = 15)\n",
    "plt.ylabel('Revenue', fontsize = 15)\n",
    "\n",
    "plt.show()"
   ]
  },
  {
   "cell_type": "markdown",
   "id": "58cf1f91",
   "metadata": {},
   "source": [
    "1. We see here Informational_Duration is exponentially distributed for both purchased(True) or not puchased(False).\n",
    "2. We also see there are so many outliers in not puchased(False) according to Informational_Duration."
   ]
  },
  {
   "cell_type": "markdown",
   "id": "a05ca284",
   "metadata": {},
   "source": [
    "#### Page Values vs Revenue"
   ]
  },
  {
   "cell_type": "code",
   "execution_count": 20,
   "id": "a094bd77",
   "metadata": {},
   "outputs": [
    {
     "data": {
      "image/png": "[encoded data removed]",
      "text/plain": [
       "<Figure size 576x360 with 1 Axes>"
      ]
     },
     "metadata": {
      "needs_background": "light"
     },
     "output_type": "display_data"
    }
   ],
   "source": [
    "plt.rcParams['figure.figsize'] = (8, 5)\n",
    "\n",
    "sns.stripplot(df['PageValues'], df['Revenue'], palette = 'spring', orient = 'h')\n",
    "plt.title('Page Values vs Revenue', fontsize = 30)\n",
    "plt.xlabel('PageValues', fontsize = 15)\n",
    "plt.ylabel('Revenue', fontsize = 15)\n",
    "plt.show()"
   ]
  },
  {
   "cell_type": "markdown",
   "id": "25016305",
   "metadata": {},
   "source": [
    "1. We see here PageValues is exponentially distributed for both purchased(True) or not puchased(False).\n",
    "2. We also see there are so many outliers in puchased(True) according to ExitRates.\n",
    "3. Most important things is here PageValues are highly influenced to purchased(True) a product."
   ]
  },
  {
   "cell_type": "markdown",
   "id": "1eb3906b",
   "metadata": {},
   "source": [
    "#### Bounce Rates vs Revenue"
   ]
  },
  {
   "cell_type": "code",
   "execution_count": 21,
   "id": "a6186dff",
   "metadata": {},
   "outputs": [
    {
     "data": {
      "image/png": "[encoded data removed]",
      "text/plain": [
       "<Figure size 576x360 with 1 Axes>"
      ]
     },
     "metadata": {
      "needs_background": "light"
     },
     "output_type": "display_data"
    }
   ],
   "source": [
    "plt.rcParams['figure.figsize'] = (8, 5)\n",
    "\n",
    "sns.stripplot(df['BounceRates'], df['Revenue'], palette = 'autumn', orient = 'h')\n",
    "plt.title('Bounce Rates vs Revenue', fontsize = 30)\n",
    "plt.xlabel('Bounce Rates', fontsize = 15)\n",
    "plt.ylabel('Revenue', fontsize = 15)\n",
    "plt.show()"
   ]
  },
  {
   "cell_type": "markdown",
   "id": "45006e05",
   "metadata": {},
   "source": [
    "1. We see here BounceRates is exponentially distributed for both purchased(True) or not puchased(False).\n",
    "2. We also see there are so many outliers in not puchased(False) according to ExitRates.\n",
    "3. BounceRates is highly influenced to buy a product or not."
   ]
  },
  {
   "cell_type": "markdown",
   "id": "d2c2eb7e",
   "metadata": {},
   "source": [
    "#### Weekend vs Revenue"
   ]
  },
  {
   "cell_type": "code",
   "execution_count": 22,
   "id": "01c250ef",
   "metadata": {},
   "outputs": [
    {
     "data": {
      "image/png": "[encoded data removed]",
      "text/plain": [
       "<Figure size 1080x360 with 1 Axes>"
      ]
     },
     "metadata": {
      "needs_background": "light"
     },
     "output_type": "display_data"
    }
   ],
   "source": [
    "data = pd.crosstab(df['Weekend'], df['Revenue'])\n",
    "data.div(data.sum(1).astype(float), axis = 0).plot(kind = 'bar', stacked = True, figsize = (15, 5), color = ['orange', 'crimson'])\n",
    "plt.title('Weekend vs Revenue', fontsize = 30)\n",
    "plt.show()"
   ]
  },
  {
   "cell_type": "markdown",
   "id": "686cec7e",
   "metadata": {},
   "source": [
    "#### Visitor Type vs Revenue"
   ]
  },
  {
   "cell_type": "code",
   "execution_count": 23,
   "id": "c6ffc061",
   "metadata": {},
   "outputs": [
    {
     "data": {
      "image/png": "[encoded data removed]",
      "text/plain": [
       "<Figure size 1080x360 with 1 Axes>"
      ]
     },
     "metadata": {
      "needs_background": "light"
     },
     "output_type": "display_data"
    }
   ],
   "source": [
    "data = pd.crosstab(df['VisitorType'], df['Revenue'])\n",
    "data.div(data.sum(1).astype(float), axis=0).plot(kind = 'bar', stacked = True, figsize =(15, 5), color = ['lightgreen', 'green'])\n",
    "plt.title('Visitor Type vs Revenue', fontsize = 30)\n",
    "plt.show()"
   ]
  },
  {
   "cell_type": "markdown",
   "id": "774cae25",
   "metadata": {},
   "source": [
    "In this visualization, every category is different than others. New_Visitors are highly influenced to buy a product."
   ]
  },
  {
   "cell_type": "markdown",
   "id": "2ae653af",
   "metadata": {},
   "source": [
    "### Multivariate"
   ]
  },
  {
   "cell_type": "code",
   "execution_count": 24,
   "id": "323d93a8",
   "metadata": {},
   "outputs": [],
   "source": [
    "#### Month vs BounceRates w.r.t. Revenue"
   ]
  },
  {
   "cell_type": "code",
   "execution_count": 25,
   "id": "93c5b6d5",
   "metadata": {},
   "outputs": [
    {
     "data": {
      "image/png": "[encoded data removed]",
      "text/plain": [
       "<Figure size 720x504 with 1 Axes>"
      ]
     },
     "metadata": {
      "needs_background": "light"
     },
     "output_type": "display_data"
    }
   ],
   "source": [
    "plt.rcParams['figure.figsize'] = (10, 7)\n",
    "\n",
    "sns.boxplot(x = df['Month'], y = df['BounceRates'], hue = df['Revenue'], palette = 'autumn')\n",
    "plt.title(\"month vs bounceRates w.r.t. Revenue\", fontsize = 25)\n",
    "plt.show()"
   ]
  },
  {
   "cell_type": "markdown",
   "id": "b67fa62f",
   "metadata": {},
   "source": [
    "We see here Month vs BounceRates are normally(Gaussian) distributed when users purchased a product for some Month but some them are exponentially distributed.\n",
    "\n",
    "There are lots of outliers here."
   ]
  },
  {
   "cell_type": "markdown",
   "id": "ce863b58",
   "metadata": {},
   "source": [
    "#### visitor type vs exit rates w.r.t. revenue"
   ]
  },
  {
   "cell_type": "code",
   "execution_count": 26,
   "id": "59470831",
   "metadata": {},
   "outputs": [
    {
     "data": {
      "image/png": "[encoded data removed]",
      "text/plain": [
       "<Figure size 720x504 with 1 Axes>"
      ]
     },
     "metadata": {
      "needs_background": "light"
     },
     "output_type": "display_data"
    }
   ],
   "source": [
    "plt.rcParams['figure.figsize'] = (10, 7)\n",
    "\n",
    "sns.violinplot(x = df['VisitorType'], y = df['PageValues'], hue = df['Revenue'], palette = 'Reds')\n",
    "plt.title('visitor type vs exit rates w.r.t. revenue', fontsize = 25)\n",
    "plt.show()"
   ]
  },
  {
   "cell_type": "markdown",
   "id": "df00e1c7",
   "metadata": {},
   "source": [
    "We see here VisitorType vs exitrates are exponentially distributed when users purchased a product or not.\n",
    "\n",
    "There are lots of outlier also here."
   ]
  },
  {
   "cell_type": "markdown",
   "id": "7afe3808",
   "metadata": {},
   "source": [
    "#### region vs pagevalues w.r.t. revenue"
   ]
  },
  {
   "cell_type": "code",
   "execution_count": 27,
   "id": "06faa3ab",
   "metadata": {},
   "outputs": [
    {
     "data": {
      "image/png": "[encoded data removed]",
      "text/plain": [
       "<Figure size 720x504 with 1 Axes>"
      ]
     },
     "metadata": {
      "needs_background": "light"
     },
     "output_type": "display_data"
    }
   ],
   "source": [
    "plt.rcParams['figure.figsize'] = (10, 7)\n",
    "\n",
    "sns.violinplot(x = df['Region'], y = df['PageValues'], hue = df['Revenue'])\n",
    "plt.title('region vs pagevalues w.r.t. revenue', fontsize = 25)\n",
    "plt.show()"
   ]
  },
  {
   "cell_type": "markdown",
   "id": "4d97e962",
   "metadata": {},
   "source": [
    "We see here Region vs PageValues are exponentially distributed when users purchased a product or not.\n",
    "\n",
    "There are lots of outlier also here"
   ]
  },
  {
   "cell_type": "markdown",
   "id": "3d515890",
   "metadata": {},
   "source": [
    "### Summary table of Multivariate Feature Analysis"
   ]
  },
  {
   "cell_type": "code",
   "execution_count": 28,
   "id": "9c721294",
   "metadata": {},
   "outputs": [
    {
     "data": {
      "text/html": [
       "<div>\n",
       "<style scoped>\n",
       "    .dataframe tbody tr th:only-of-type {\n",
       "        vertical-align: middle;\n",
       "    }\n",
       "\n",
       "    .dataframe tbody tr th {\n",
       "        vertical-align: top;\n",
       "    }\n",
       "\n",
       "    .dataframe thead th {\n",
       "        text-align: right;\n",
       "    }\n",
       "</style>\n",
       "<table border=\"1\" class=\"dataframe\">\n",
       "  <thead>\n",
       "    <tr style=\"text-align: right;\">\n",
       "      <th></th>\n",
       "      <th>Multivariate_features</th>\n",
       "      <th>W.R.T</th>\n",
       "      <th>Distribution</th>\n",
       "      <th>Revenue_True</th>\n",
       "      <th>Revenue_False</th>\n",
       "      <th>Outliers</th>\n",
       "      <th>Importance</th>\n",
       "    </tr>\n",
       "  </thead>\n",
       "  <tbody>\n",
       "    <tr>\n",
       "      <th>0</th>\n",
       "      <td>month vs pagevalues</td>\n",
       "      <td>Revenue</td>\n",
       "      <td>Gaussian</td>\n",
       "      <td>High</td>\n",
       "      <td>Low</td>\n",
       "      <td>Low</td>\n",
       "      <td>High</td>\n",
       "    </tr>\n",
       "    <tr>\n",
       "      <th>1</th>\n",
       "      <td>month vs exitrates</td>\n",
       "      <td>Revenue</td>\n",
       "      <td>Gaussian</td>\n",
       "      <td>Low</td>\n",
       "      <td>High</td>\n",
       "      <td>Medium</td>\n",
       "      <td>Medium</td>\n",
       "    </tr>\n",
       "    <tr>\n",
       "      <th>2</th>\n",
       "      <td>month vs bounceRates</td>\n",
       "      <td>Revenue</td>\n",
       "      <td>Gaussian</td>\n",
       "      <td>Low</td>\n",
       "      <td>High</td>\n",
       "      <td>Medium</td>\n",
       "      <td>High</td>\n",
       "    </tr>\n",
       "    <tr>\n",
       "      <th>3</th>\n",
       "      <td>visitor type vs BounceRates</td>\n",
       "      <td>Revenue</td>\n",
       "      <td>Exponential</td>\n",
       "      <td>Low</td>\n",
       "      <td>High</td>\n",
       "      <td>Low</td>\n",
       "      <td>High</td>\n",
       "    </tr>\n",
       "    <tr>\n",
       "      <th>4</th>\n",
       "      <td>visitor type vs exit rates</td>\n",
       "      <td>Revenue</td>\n",
       "      <td>Exponential</td>\n",
       "      <td>Low</td>\n",
       "      <td>High</td>\n",
       "      <td>High</td>\n",
       "      <td>Medium</td>\n",
       "    </tr>\n",
       "    <tr>\n",
       "      <th>5</th>\n",
       "      <td>visitor type vs exit rates</td>\n",
       "      <td>Revenue</td>\n",
       "      <td>Exponential</td>\n",
       "      <td>High</td>\n",
       "      <td>Low</td>\n",
       "      <td>High</td>\n",
       "      <td>Medium</td>\n",
       "    </tr>\n",
       "    <tr>\n",
       "      <th>6</th>\n",
       "      <td>region vs pagevalues</td>\n",
       "      <td>Revenue</td>\n",
       "      <td>Exponential</td>\n",
       "      <td>Low</td>\n",
       "      <td>High</td>\n",
       "      <td>High</td>\n",
       "      <td>High</td>\n",
       "    </tr>\n",
       "    <tr>\n",
       "      <th>7</th>\n",
       "      <td>rigion vs exit rates</td>\n",
       "      <td>Revenue</td>\n",
       "      <td>Gaussian</td>\n",
       "      <td>High</td>\n",
       "      <td>High</td>\n",
       "      <td>High</td>\n",
       "      <td>Medium</td>\n",
       "    </tr>\n",
       "  </tbody>\n",
       "</table>\n",
       "</div>"
      ],
      "text/plain": [
       "         Multivariate_features    W.R.T Distribution Revenue_True  \\\n",
       "0          month vs pagevalues  Revenue     Gaussian         High   \n",
       "1           month vs exitrates  Revenue     Gaussian          Low   \n",
       "2         month vs bounceRates  Revenue     Gaussian          Low   \n",
       "3  visitor type vs BounceRates  Revenue  Exponential          Low   \n",
       "4   visitor type vs exit rates  Revenue  Exponential          Low   \n",
       "5   visitor type vs exit rates  Revenue  Exponential         High   \n",
       "6         region vs pagevalues  Revenue  Exponential          Low   \n",
       "7         rigion vs exit rates  Revenue     Gaussian         High   \n",
       "\n",
       "  Revenue_False Outliers Importance  \n",
       "0           Low      Low       High  \n",
       "1          High   Medium     Medium  \n",
       "2          High   Medium       High  \n",
       "3          High      Low       High  \n",
       "4          High     High     Medium  \n",
       "5           Low     High     Medium  \n",
       "6          High     High       High  \n",
       "7          High     High     Medium  "
      ]
     },
     "execution_count": 28,
     "metadata": {},
     "output_type": "execute_result"
    }
   ],
   "source": [
    "multivariate_feature_analysis = [\n",
    "    ['month vs pagevalues', 'Revenue', 'Gaussian', 'High', 'Low', 'Low', 'High'],\n",
    "    ['month vs exitrates' , 'Revenue', 'Gaussian', 'Low', 'High', 'Medium', 'Medium'],\n",
    "    ['month vs bounceRates' , 'Revenue', 'Gaussian', 'Low', 'High', 'Medium', 'High'],\n",
    "    ['visitor type vs BounceRates' , 'Revenue', 'Exponential', 'Low', 'High', 'Low', 'High'],\n",
    "    ['visitor type vs exit rates' , 'Revenue', 'Exponential', 'Low', 'High', 'High', 'Medium'],\n",
    "    ['visitor type vs exit rates', 'Revenue', 'Exponential', 'High', 'Low', 'High', 'Medium'],\n",
    "    ['region vs pagevalues', 'Revenue', 'Exponential', 'Low', 'High', 'High', 'High'],\n",
    "    ['rigion vs exit rates', 'Revenue', 'Gaussian', 'High', 'High', 'High', 'Medium'] \n",
    "]\n",
    "feature_summary = pd.DataFrame(multivariate_feature_analysis, columns=['Multivariate_features', 'W.R.T', 'Distribution', 'Revenue_True', 'Revenue_False', 'Outliers', 'Importance'])\n",
    "feature_summary"
   ]
  },
  {
   "cell_type": "markdown",
   "id": "21f7edb5",
   "metadata": {},
   "source": [
    "### Scaling"
   ]
  },
  {
   "cell_type": "code",
   "execution_count": 29,
   "id": "88be00d4",
   "metadata": {},
   "outputs": [],
   "source": [
    "from sklearn.preprocessing import StandardScaler\n",
    "\n",
    "ss = StandardScaler()\n",
    "df_num_scaled = pd.DataFrame(ss.fit_transform(df_num), columns= df_num.columns)"
   ]
  },
  {
   "cell_type": "code",
   "execution_count": 30,
   "id": "98de32b1",
   "metadata": {},
   "outputs": [
    {
     "data": {
      "text/html": [
       "<div>\n",
       "<style scoped>\n",
       "    .dataframe tbody tr th:only-of-type {\n",
       "        vertical-align: middle;\n",
       "    }\n",
       "\n",
       "    .dataframe tbody tr th {\n",
       "        vertical-align: top;\n",
       "    }\n",
       "\n",
       "    .dataframe thead th {\n",
       "        text-align: right;\n",
       "    }\n",
       "</style>\n",
       "<table border=\"1\" class=\"dataframe\">\n",
       "  <thead>\n",
       "    <tr style=\"text-align: right;\">\n",
       "      <th></th>\n",
       "      <th>Administrative</th>\n",
       "      <th>Administrative_Duration</th>\n",
       "      <th>Informational</th>\n",
       "      <th>Informational_Duration</th>\n",
       "      <th>ProductRelated</th>\n",
       "      <th>ProductRelated_Duration</th>\n",
       "      <th>BounceRates</th>\n",
       "      <th>ExitRates</th>\n",
       "      <th>PageValues</th>\n",
       "      <th>SpecialDay</th>\n",
       "      <th>OperatingSystems</th>\n",
       "      <th>Browser</th>\n",
       "      <th>Region</th>\n",
       "      <th>TrafficType</th>\n",
       "    </tr>\n",
       "  </thead>\n",
       "  <tbody>\n",
       "    <tr>\n",
       "      <th>count</th>\n",
       "      <td>1.233000e+04</td>\n",
       "      <td>1.233000e+04</td>\n",
       "      <td>1.233000e+04</td>\n",
       "      <td>1.233000e+04</td>\n",
       "      <td>1.233000e+04</td>\n",
       "      <td>1.233000e+04</td>\n",
       "      <td>1.233000e+04</td>\n",
       "      <td>1.233000e+04</td>\n",
       "      <td>1.233000e+04</td>\n",
       "      <td>1.233000e+04</td>\n",
       "      <td>1.233000e+04</td>\n",
       "      <td>1.233000e+04</td>\n",
       "      <td>1.233000e+04</td>\n",
       "      <td>1.233000e+04</td>\n",
       "    </tr>\n",
       "    <tr>\n",
       "      <th>mean</th>\n",
       "      <td>-1.375191e-15</td>\n",
       "      <td>2.072011e-15</td>\n",
       "      <td>6.987391e-15</td>\n",
       "      <td>1.761455e-16</td>\n",
       "      <td>-2.849753e-16</td>\n",
       "      <td>9.953199e-16</td>\n",
       "      <td>1.333348e-15</td>\n",
       "      <td>-2.622666e-16</td>\n",
       "      <td>-4.954530e-15</td>\n",
       "      <td>-1.722823e-14</td>\n",
       "      <td>2.024424e-16</td>\n",
       "      <td>-2.961896e-15</td>\n",
       "      <td>-8.871609e-16</td>\n",
       "      <td>2.732067e-15</td>\n",
       "    </tr>\n",
       "    <tr>\n",
       "      <th>std</th>\n",
       "      <td>1.000041e+00</td>\n",
       "      <td>1.000041e+00</td>\n",
       "      <td>1.000041e+00</td>\n",
       "      <td>1.000041e+00</td>\n",
       "      <td>1.000041e+00</td>\n",
       "      <td>1.000041e+00</td>\n",
       "      <td>1.000041e+00</td>\n",
       "      <td>1.000041e+00</td>\n",
       "      <td>1.000041e+00</td>\n",
       "      <td>1.000041e+00</td>\n",
       "      <td>1.000041e+00</td>\n",
       "      <td>1.000041e+00</td>\n",
       "      <td>1.000041e+00</td>\n",
       "      <td>1.000041e+00</td>\n",
       "    </tr>\n",
       "    <tr>\n",
       "      <th>min</th>\n",
       "      <td>-6.969930e-01</td>\n",
       "      <td>-4.571914e-01</td>\n",
       "      <td>-3.964779e-01</td>\n",
       "      <td>-2.449305e-01</td>\n",
       "      <td>-7.134884e-01</td>\n",
       "      <td>-6.243475e-01</td>\n",
       "      <td>-4.576830e-01</td>\n",
       "      <td>-8.863706e-01</td>\n",
       "      <td>-3.171778e-01</td>\n",
       "      <td>-3.088214e-01</td>\n",
       "      <td>-1.233426e+00</td>\n",
       "      <td>-7.902929e-01</td>\n",
       "      <td>-8.941785e-01</td>\n",
       "      <td>-7.626290e-01</td>\n",
       "    </tr>\n",
       "    <tr>\n",
       "      <th>25%</th>\n",
       "      <td>-6.969930e-01</td>\n",
       "      <td>-4.571914e-01</td>\n",
       "      <td>-3.964779e-01</td>\n",
       "      <td>-2.449305e-01</td>\n",
       "      <td>-5.560920e-01</td>\n",
       "      <td>-5.281214e-01</td>\n",
       "      <td>-4.576830e-01</td>\n",
       "      <td>-5.923930e-01</td>\n",
       "      <td>-3.171778e-01</td>\n",
       "      <td>-3.088214e-01</td>\n",
       "      <td>-1.360783e-01</td>\n",
       "      <td>-2.079519e-01</td>\n",
       "      <td>-8.941785e-01</td>\n",
       "      <td>-5.141822e-01</td>\n",
       "    </tr>\n",
       "    <tr>\n",
       "      <th>50%</th>\n",
       "      <td>-3.959377e-01</td>\n",
       "      <td>-4.147639e-01</td>\n",
       "      <td>-3.964779e-01</td>\n",
       "      <td>-2.449305e-01</td>\n",
       "      <td>-3.087548e-01</td>\n",
       "      <td>-3.113566e-01</td>\n",
       "      <td>-3.934903e-01</td>\n",
       "      <td>-3.686913e-01</td>\n",
       "      <td>-3.171778e-01</td>\n",
       "      <td>-3.088214e-01</td>\n",
       "      <td>-1.360783e-01</td>\n",
       "      <td>-2.079519e-01</td>\n",
       "      <td>-6.136354e-02</td>\n",
       "      <td>-5.141822e-01</td>\n",
       "    </tr>\n",
       "    <tr>\n",
       "      <th>75%</th>\n",
       "      <td>5.072280e-01</td>\n",
       "      <td>7.035981e-02</td>\n",
       "      <td>-3.964779e-01</td>\n",
       "      <td>-2.449305e-01</td>\n",
       "      <td>1.409492e-01</td>\n",
       "      <td>1.407881e-01</td>\n",
       "      <td>-1.109348e-01</td>\n",
       "      <td>1.425510e-01</td>\n",
       "      <td>-3.171778e-01</td>\n",
       "      <td>-3.088214e-01</td>\n",
       "      <td>9.612698e-01</td>\n",
       "      <td>-2.079519e-01</td>\n",
       "      <td>3.550439e-01</td>\n",
       "      <td>-1.728851e-02</td>\n",
       "    </tr>\n",
       "    <tr>\n",
       "      <th>max</th>\n",
       "      <td>7.431499e+00</td>\n",
       "      <td>1.876956e+01</td>\n",
       "      <td>1.849960e+01</td>\n",
       "      <td>1.786868e+01</td>\n",
       "      <td>1.513858e+01</td>\n",
       "      <td>3.280678e+01</td>\n",
       "      <td>3.667189e+00</td>\n",
       "      <td>3.229316e+00</td>\n",
       "      <td>1.916634e+01</td>\n",
       "      <td>4.718598e+00</td>\n",
       "      <td>6.448010e+00</td>\n",
       "      <td>6.197799e+00</td>\n",
       "      <td>2.437081e+00</td>\n",
       "      <td>3.957861e+00</td>\n",
       "    </tr>\n",
       "  </tbody>\n",
       "</table>\n",
       "</div>"
      ],
      "text/plain": [
       "       Administrative  Administrative_Duration  Informational  \\\n",
       "count    1.233000e+04             1.233000e+04   1.233000e+04   \n",
       "mean    -1.375191e-15             2.072011e-15   6.987391e-15   \n",
       "std      1.000041e+00             1.000041e+00   1.000041e+00   \n",
       "min     -6.969930e-01            -4.571914e-01  -3.964779e-01   \n",
       "25%     -6.969930e-01            -4.571914e-01  -3.964779e-01   \n",
       "50%     -3.959377e-01            -4.147639e-01  -3.964779e-01   \n",
       "75%      5.072280e-01             7.035981e-02  -3.964779e-01   \n",
       "max      7.431499e+00             1.876956e+01   1.849960e+01   \n",
       "\n",
       "       Informational_Duration  ProductRelated  ProductRelated_Duration  \\\n",
       "count            1.233000e+04    1.233000e+04             1.233000e+04   \n",
       "mean             1.761455e-16   -2.849753e-16             9.953199e-16   \n",
       "std              1.000041e+00    1.000041e+00             1.000041e+00   \n",
       "min             -2.449305e-01   -7.134884e-01            -6.243475e-01   \n",
       "25%             -2.449305e-01   -5.560920e-01            -5.281214e-01   \n",
       "50%             -2.449305e-01   -3.087548e-01            -3.113566e-01   \n",
       "75%             -2.449305e-01    1.409492e-01             1.407881e-01   \n",
       "max              1.786868e+01    1.513858e+01             3.280678e+01   \n",
       "\n",
       "        BounceRates     ExitRates    PageValues    SpecialDay  \\\n",
       "count  1.233000e+04  1.233000e+04  1.233000e+04  1.233000e+04   \n",
       "mean   1.333348e-15 -2.622666e-16 -4.954530e-15 -1.722823e-14   \n",
       "std    1.000041e+00  1.000041e+00  1.000041e+00  1.000041e+00   \n",
       "min   -4.576830e-01 -8.863706e-01 -3.171778e-01 -3.088214e-01   \n",
       "25%   -4.576830e-01 -5.923930e-01 -3.171778e-01 -3.088214e-01   \n",
       "50%   -3.934903e-01 -3.686913e-01 -3.171778e-01 -3.088214e-01   \n",
       "75%   -1.109348e-01  1.425510e-01 -3.171778e-01 -3.088214e-01   \n",
       "max    3.667189e+00  3.229316e+00  1.916634e+01  4.718598e+00   \n",
       "\n",
       "       OperatingSystems       Browser        Region   TrafficType  \n",
       "count      1.233000e+04  1.233000e+04  1.233000e+04  1.233000e+04  \n",
       "mean       2.024424e-16 -2.961896e-15 -8.871609e-16  2.732067e-15  \n",
       "std        1.000041e+00  1.000041e+00  1.000041e+00  1.000041e+00  \n",
       "min       -1.233426e+00 -7.902929e-01 -8.941785e-01 -7.626290e-01  \n",
       "25%       -1.360783e-01 -2.079519e-01 -8.941785e-01 -5.141822e-01  \n",
       "50%       -1.360783e-01 -2.079519e-01 -6.136354e-02 -5.141822e-01  \n",
       "75%        9.612698e-01 -2.079519e-01  3.550439e-01 -1.728851e-02  \n",
       "max        6.448010e+00  6.197799e+00  2.437081e+00  3.957861e+00  "
      ]
     },
     "execution_count": 30,
     "metadata": {},
     "output_type": "execute_result"
    }
   ],
   "source": [
    "df_num_scaled.describe()"
   ]
  },
  {
   "cell_type": "markdown",
   "id": "99337e5a",
   "metadata": {},
   "source": [
    "### Encoding"
   ]
  },
  {
   "cell_type": "code",
   "execution_count": 31,
   "id": "d6fc38fb",
   "metadata": {},
   "outputs": [],
   "source": [
    "df_cat_dummy = pd.get_dummies(df_cat, drop_first = True)"
   ]
  },
  {
   "cell_type": "code",
   "execution_count": 32,
   "id": "211bafe2",
   "metadata": {},
   "outputs": [
    {
     "data": {
      "text/html": [
       "<div>\n",
       "<style scoped>\n",
       "    .dataframe tbody tr th:only-of-type {\n",
       "        vertical-align: middle;\n",
       "    }\n",
       "\n",
       "    .dataframe tbody tr th {\n",
       "        vertical-align: top;\n",
       "    }\n",
       "\n",
       "    .dataframe thead th {\n",
       "        text-align: right;\n",
       "    }\n",
       "</style>\n",
       "<table border=\"1\" class=\"dataframe\">\n",
       "  <thead>\n",
       "    <tr style=\"text-align: right;\">\n",
       "      <th></th>\n",
       "      <th>Month_Dec</th>\n",
       "      <th>Month_Feb</th>\n",
       "      <th>Month_Jul</th>\n",
       "      <th>Month_June</th>\n",
       "      <th>Month_Mar</th>\n",
       "      <th>Month_May</th>\n",
       "      <th>Month_Nov</th>\n",
       "      <th>Month_Oct</th>\n",
       "      <th>Month_Sep</th>\n",
       "      <th>VisitorType_Other</th>\n",
       "      <th>VisitorType_Returning_Visitor</th>\n",
       "      <th>Weekend_True</th>\n",
       "      <th>Revenue_True</th>\n",
       "    </tr>\n",
       "  </thead>\n",
       "  <tbody>\n",
       "    <tr>\n",
       "      <th>0</th>\n",
       "      <td>0</td>\n",
       "      <td>1</td>\n",
       "      <td>0</td>\n",
       "      <td>0</td>\n",
       "      <td>0</td>\n",
       "      <td>0</td>\n",
       "      <td>0</td>\n",
       "      <td>0</td>\n",
       "      <td>0</td>\n",
       "      <td>0</td>\n",
       "      <td>1</td>\n",
       "      <td>0</td>\n",
       "      <td>0</td>\n",
       "    </tr>\n",
       "    <tr>\n",
       "      <th>1</th>\n",
       "      <td>0</td>\n",
       "      <td>1</td>\n",
       "      <td>0</td>\n",
       "      <td>0</td>\n",
       "      <td>0</td>\n",
       "      <td>0</td>\n",
       "      <td>0</td>\n",
       "      <td>0</td>\n",
       "      <td>0</td>\n",
       "      <td>0</td>\n",
       "      <td>1</td>\n",
       "      <td>0</td>\n",
       "      <td>0</td>\n",
       "    </tr>\n",
       "    <tr>\n",
       "      <th>2</th>\n",
       "      <td>0</td>\n",
       "      <td>1</td>\n",
       "      <td>0</td>\n",
       "      <td>0</td>\n",
       "      <td>0</td>\n",
       "      <td>0</td>\n",
       "      <td>0</td>\n",
       "      <td>0</td>\n",
       "      <td>0</td>\n",
       "      <td>0</td>\n",
       "      <td>1</td>\n",
       "      <td>0</td>\n",
       "      <td>0</td>\n",
       "    </tr>\n",
       "    <tr>\n",
       "      <th>3</th>\n",
       "      <td>0</td>\n",
       "      <td>1</td>\n",
       "      <td>0</td>\n",
       "      <td>0</td>\n",
       "      <td>0</td>\n",
       "      <td>0</td>\n",
       "      <td>0</td>\n",
       "      <td>0</td>\n",
       "      <td>0</td>\n",
       "      <td>0</td>\n",
       "      <td>1</td>\n",
       "      <td>0</td>\n",
       "      <td>0</td>\n",
       "    </tr>\n",
       "    <tr>\n",
       "      <th>4</th>\n",
       "      <td>0</td>\n",
       "      <td>1</td>\n",
       "      <td>0</td>\n",
       "      <td>0</td>\n",
       "      <td>0</td>\n",
       "      <td>0</td>\n",
       "      <td>0</td>\n",
       "      <td>0</td>\n",
       "      <td>0</td>\n",
       "      <td>0</td>\n",
       "      <td>1</td>\n",
       "      <td>1</td>\n",
       "      <td>0</td>\n",
       "    </tr>\n",
       "  </tbody>\n",
       "</table>\n",
       "</div>"
      ],
      "text/plain": [
       "   Month_Dec  Month_Feb  Month_Jul  Month_June  Month_Mar  Month_May  \\\n",
       "0          0          1          0           0          0          0   \n",
       "1          0          1          0           0          0          0   \n",
       "2          0          1          0           0          0          0   \n",
       "3          0          1          0           0          0          0   \n",
       "4          0          1          0           0          0          0   \n",
       "\n",
       "   Month_Nov  Month_Oct  Month_Sep  VisitorType_Other  \\\n",
       "0          0          0          0                  0   \n",
       "1          0          0          0                  0   \n",
       "2          0          0          0                  0   \n",
       "3          0          0          0                  0   \n",
       "4          0          0          0                  0   \n",
       "\n",
       "   VisitorType_Returning_Visitor  Weekend_True  Revenue_True  \n",
       "0                              1             0             0  \n",
       "1                              1             0             0  \n",
       "2                              1             0             0  \n",
       "3                              1             0             0  \n",
       "4                              1             1             0  "
      ]
     },
     "execution_count": 32,
     "metadata": {},
     "output_type": "execute_result"
    }
   ],
   "source": [
    "df_cat_dummy = df_cat_dummy.astype(int)\n",
    "df_cat_dummy.head()"
   ]
  },
  {
   "cell_type": "code",
   "execution_count": 33,
   "id": "5b0baa2f",
   "metadata": {},
   "outputs": [
    {
     "data": {
      "text/html": [
       "<div>\n",
       "<style scoped>\n",
       "    .dataframe tbody tr th:only-of-type {\n",
       "        vertical-align: middle;\n",
       "    }\n",
       "\n",
       "    .dataframe tbody tr th {\n",
       "        vertical-align: top;\n",
       "    }\n",
       "\n",
       "    .dataframe thead th {\n",
       "        text-align: right;\n",
       "    }\n",
       "</style>\n",
       "<table border=\"1\" class=\"dataframe\">\n",
       "  <thead>\n",
       "    <tr style=\"text-align: right;\">\n",
       "      <th></th>\n",
       "      <th>Administrative</th>\n",
       "      <th>Administrative_Duration</th>\n",
       "      <th>Informational</th>\n",
       "      <th>Informational_Duration</th>\n",
       "      <th>ProductRelated</th>\n",
       "      <th>ProductRelated_Duration</th>\n",
       "      <th>BounceRates</th>\n",
       "      <th>ExitRates</th>\n",
       "      <th>PageValues</th>\n",
       "      <th>SpecialDay</th>\n",
       "      <th>...</th>\n",
       "      <th>Month_June</th>\n",
       "      <th>Month_Mar</th>\n",
       "      <th>Month_May</th>\n",
       "      <th>Month_Nov</th>\n",
       "      <th>Month_Oct</th>\n",
       "      <th>Month_Sep</th>\n",
       "      <th>VisitorType_Other</th>\n",
       "      <th>VisitorType_Returning_Visitor</th>\n",
       "      <th>Weekend_True</th>\n",
       "      <th>Revenue_True</th>\n",
       "    </tr>\n",
       "  </thead>\n",
       "  <tbody>\n",
       "    <tr>\n",
       "      <th>0</th>\n",
       "      <td>-0.696993</td>\n",
       "      <td>-0.457191</td>\n",
       "      <td>-0.396478</td>\n",
       "      <td>-0.244931</td>\n",
       "      <td>-0.691003</td>\n",
       "      <td>-0.624348</td>\n",
       "      <td>3.667189</td>\n",
       "      <td>3.229316</td>\n",
       "      <td>-0.317178</td>\n",
       "      <td>-0.308821</td>\n",
       "      <td>...</td>\n",
       "      <td>0</td>\n",
       "      <td>0</td>\n",
       "      <td>0</td>\n",
       "      <td>0</td>\n",
       "      <td>0</td>\n",
       "      <td>0</td>\n",
       "      <td>0</td>\n",
       "      <td>1</td>\n",
       "      <td>0</td>\n",
       "      <td>0</td>\n",
       "    </tr>\n",
       "    <tr>\n",
       "      <th>1</th>\n",
       "      <td>-0.696993</td>\n",
       "      <td>-0.457191</td>\n",
       "      <td>-0.396478</td>\n",
       "      <td>-0.244931</td>\n",
       "      <td>-0.668518</td>\n",
       "      <td>-0.590903</td>\n",
       "      <td>-0.457683</td>\n",
       "      <td>1.171473</td>\n",
       "      <td>-0.317178</td>\n",
       "      <td>-0.308821</td>\n",
       "      <td>...</td>\n",
       "      <td>0</td>\n",
       "      <td>0</td>\n",
       "      <td>0</td>\n",
       "      <td>0</td>\n",
       "      <td>0</td>\n",
       "      <td>0</td>\n",
       "      <td>0</td>\n",
       "      <td>1</td>\n",
       "      <td>0</td>\n",
       "      <td>0</td>\n",
       "    </tr>\n",
       "    <tr>\n",
       "      <th>2</th>\n",
       "      <td>-0.696993</td>\n",
       "      <td>-0.457191</td>\n",
       "      <td>-0.396478</td>\n",
       "      <td>-0.244931</td>\n",
       "      <td>-0.691003</td>\n",
       "      <td>-0.624348</td>\n",
       "      <td>3.667189</td>\n",
       "      <td>3.229316</td>\n",
       "      <td>-0.317178</td>\n",
       "      <td>-0.308821</td>\n",
       "      <td>...</td>\n",
       "      <td>0</td>\n",
       "      <td>0</td>\n",
       "      <td>0</td>\n",
       "      <td>0</td>\n",
       "      <td>0</td>\n",
       "      <td>0</td>\n",
       "      <td>0</td>\n",
       "      <td>1</td>\n",
       "      <td>0</td>\n",
       "      <td>0</td>\n",
       "    </tr>\n",
       "    <tr>\n",
       "      <th>3</th>\n",
       "      <td>-0.696993</td>\n",
       "      <td>-0.457191</td>\n",
       "      <td>-0.396478</td>\n",
       "      <td>-0.244931</td>\n",
       "      <td>-0.668518</td>\n",
       "      <td>-0.622954</td>\n",
       "      <td>0.573535</td>\n",
       "      <td>1.994610</td>\n",
       "      <td>-0.317178</td>\n",
       "      <td>-0.308821</td>\n",
       "      <td>...</td>\n",
       "      <td>0</td>\n",
       "      <td>0</td>\n",
       "      <td>0</td>\n",
       "      <td>0</td>\n",
       "      <td>0</td>\n",
       "      <td>0</td>\n",
       "      <td>0</td>\n",
       "      <td>1</td>\n",
       "      <td>0</td>\n",
       "      <td>0</td>\n",
       "    </tr>\n",
       "    <tr>\n",
       "      <th>4</th>\n",
       "      <td>-0.696993</td>\n",
       "      <td>-0.457191</td>\n",
       "      <td>-0.396478</td>\n",
       "      <td>-0.244931</td>\n",
       "      <td>-0.488636</td>\n",
       "      <td>-0.296430</td>\n",
       "      <td>-0.045196</td>\n",
       "      <td>0.142551</td>\n",
       "      <td>-0.317178</td>\n",
       "      <td>-0.308821</td>\n",
       "      <td>...</td>\n",
       "      <td>0</td>\n",
       "      <td>0</td>\n",
       "      <td>0</td>\n",
       "      <td>0</td>\n",
       "      <td>0</td>\n",
       "      <td>0</td>\n",
       "      <td>0</td>\n",
       "      <td>1</td>\n",
       "      <td>1</td>\n",
       "      <td>0</td>\n",
       "    </tr>\n",
       "  </tbody>\n",
       "</table>\n",
       "<p>5 rows × 27 columns</p>\n",
       "</div>"
      ],
      "text/plain": [
       "   Administrative  Administrative_Duration  Informational  \\\n",
       "0       -0.696993                -0.457191      -0.396478   \n",
       "1       -0.696993                -0.457191      -0.396478   \n",
       "2       -0.696993                -0.457191      -0.396478   \n",
       "3       -0.696993                -0.457191      -0.396478   \n",
       "4       -0.696993                -0.457191      -0.396478   \n",
       "\n",
       "   Informational_Duration  ProductRelated  ProductRelated_Duration  \\\n",
       "0               -0.244931       -0.691003                -0.624348   \n",
       "1               -0.244931       -0.668518                -0.590903   \n",
       "2               -0.244931       -0.691003                -0.624348   \n",
       "3               -0.244931       -0.668518                -0.622954   \n",
       "4               -0.244931       -0.488636                -0.296430   \n",
       "\n",
       "   BounceRates  ExitRates  PageValues  SpecialDay  ...  Month_June  Month_Mar  \\\n",
       "0     3.667189   3.229316   -0.317178   -0.308821  ...           0          0   \n",
       "1    -0.457683   1.171473   -0.317178   -0.308821  ...           0          0   \n",
       "2     3.667189   3.229316   -0.317178   -0.308821  ...           0          0   \n",
       "3     0.573535   1.994610   -0.317178   -0.308821  ...           0          0   \n",
       "4    -0.045196   0.142551   -0.317178   -0.308821  ...           0          0   \n",
       "\n",
       "   Month_May  Month_Nov  Month_Oct  Month_Sep  VisitorType_Other  \\\n",
       "0          0          0          0          0                  0   \n",
       "1          0          0          0          0                  0   \n",
       "2          0          0          0          0                  0   \n",
       "3          0          0          0          0                  0   \n",
       "4          0          0          0          0                  0   \n",
       "\n",
       "   VisitorType_Returning_Visitor  Weekend_True  Revenue_True  \n",
       "0                              1             0             0  \n",
       "1                              1             0             0  \n",
       "2                              1             0             0  \n",
       "3                              1             0             0  \n",
       "4                              1             1             0  \n",
       "\n",
       "[5 rows x 27 columns]"
      ]
     },
     "execution_count": 33,
     "metadata": {},
     "output_type": "execute_result"
    }
   ],
   "source": [
    "X = df_num_scaled.join(df_cat_dummy)\n",
    "#X = df_num_scaled\n",
    "X.head()"
   ]
  },
  {
   "cell_type": "code",
   "execution_count": 34,
   "id": "0fbb3ada",
   "metadata": {},
   "outputs": [
    {
     "data": {
      "text/plain": [
       "Administrative                   float64\n",
       "Administrative_Duration          float64\n",
       "Informational                    float64\n",
       "Informational_Duration           float64\n",
       "ProductRelated                   float64\n",
       "ProductRelated_Duration          float64\n",
       "BounceRates                      float64\n",
       "ExitRates                        float64\n",
       "PageValues                       float64\n",
       "SpecialDay                       float64\n",
       "OperatingSystems                 float64\n",
       "Browser                          float64\n",
       "Region                           float64\n",
       "TrafficType                      float64\n",
       "Month_Dec                          int32\n",
       "Month_Feb                          int32\n",
       "Month_Jul                          int32\n",
       "Month_June                         int32\n",
       "Month_Mar                          int32\n",
       "Month_May                          int32\n",
       "Month_Nov                          int32\n",
       "Month_Oct                          int32\n",
       "Month_Sep                          int32\n",
       "VisitorType_Other                  int32\n",
       "VisitorType_Returning_Visitor      int32\n",
       "Weekend_True                       int32\n",
       "Revenue_True                       int32\n",
       "dtype: object"
      ]
     },
     "execution_count": 34,
     "metadata": {},
     "output_type": "execute_result"
    }
   ],
   "source": [
    "X.fillna(0, inplace = True)\n",
    "X.dtypes\n"
   ]
  },
  {
   "cell_type": "code",
   "execution_count": 35,
   "id": "88579176",
   "metadata": {},
   "outputs": [],
   "source": [
    "from platform import python_version"
   ]
  },
  {
   "cell_type": "code",
   "execution_count": 75,
   "id": "aef811ef",
   "metadata": {},
   "outputs": [
    {
     "data": {
      "text/plain": [
       "'3.8.8'"
      ]
     },
     "execution_count": 75,
     "metadata": {},
     "output_type": "execute_result"
    }
   ],
   "source": [
    "python_version()"
   ]
  },
  {
   "cell_type": "markdown",
   "id": "0a7ea758",
   "metadata": {},
   "source": [
    "### K-means clustering"
   ]
  },
  {
   "cell_type": "code",
   "execution_count": 36,
   "id": "9b6341d4",
   "metadata": {},
   "outputs": [
    {
     "name": "stdout",
     "output_type": "stream",
     "text": [
      "[163908.24238281185, 144254.29442368657, 133910.37911450578, 126121.1150306445, 119259.03822284756, 112515.41929440715]\n"
     ]
    }
   ],
   "source": [
    "from sklearn.cluster import KMeans\n",
    "\n",
    "wcv = []\n",
    "\n",
    "for i in range(2,8):\n",
    "    km = KMeans(n_clusters=i)\n",
    "    km.fit(X)\n",
    "    wcv.append(km.inertia_)\n",
    "\n",
    "print(wcv)"
   ]
  },
  {
   "cell_type": "code",
   "execution_count": 37,
   "id": "d01f3e08",
   "metadata": {},
   "outputs": [
    {
     "data": {
      "image/png": "[encoded data removed]",
      "text/plain": [
       "<Figure size 720x504 with 1 Axes>"
      ]
     },
     "metadata": {
      "needs_background": "light"
     },
     "output_type": "display_data"
    }
   ],
   "source": [
    "plt.plot(range(2,8), wcv)\n",
    "plt.xlabel('K (no.of clusters)')\n",
    "plt.ylabel('WCV(within Cluster Variation)')\n",
    "plt.title('K Means Analysis')\n",
    "plt.show()\n",
    "\n",
    "#k = 3,4 seems optimal"
   ]
  },
  {
   "cell_type": "code",
   "execution_count": 38,
   "id": "5a3b0225",
   "metadata": {},
   "outputs": [
    {
     "name": "stdout",
     "output_type": "stream",
     "text": [
      "[0.2948695946188223, 0.2828699719434202, 0.23811510993368176, 0.20748768685471475, 0.20745216215691134, 0.16104763415264545]\n"
     ]
    }
   ],
   "source": [
    "from sklearn.metrics import silhouette_score\n",
    "\n",
    "silhouette = []\n",
    "\n",
    "for i in range(2,8):\n",
    "    km = KMeans(n_clusters = i)\n",
    "    km.fit(X)\n",
    "    silhouette.append(silhouette_score(X,km.labels_))\n",
    "    \n",
    "print(silhouette)"
   ]
  },
  {
   "cell_type": "code",
   "execution_count": 39,
   "id": "6106445d",
   "metadata": {},
   "outputs": [
    {
     "data": {
      "image/png": "[encoded data removed]",
      "text/plain": [
       "<Figure size 720x504 with 1 Axes>"
      ]
     },
     "metadata": {
      "needs_background": "light"
     },
     "output_type": "display_data"
    }
   ],
   "source": [
    "plt.plot(range(2,8), silhouette)\n",
    "\n",
    "plt.xlabel('K (No of Clusters)')\n",
    "plt.ylabel('Silhouette Score')\n",
    "plt.title('K Means Analysis')\n",
    "plt.show()\n",
    "\n",
    "# k=3 seems optimal"
   ]
  },
  {
   "cell_type": "code",
   "execution_count": null,
   "id": "ae76992d",
   "metadata": {},
   "outputs": [],
   "source": [
    "#from yellowbrick.cluster import silhouette_visualizer\n",
    "\n",
    "#for i in range(2,8):\n",
    "    #silhouette_visualizer(KMeans(i,random_state = 42),X)"
   ]
  },
  {
   "cell_type": "code",
   "execution_count": 40,
   "id": "9439540c",
   "metadata": {},
   "outputs": [
    {
     "data": {
      "text/plain": [
       "2    9635\n",
       "0    1636\n",
       "1    1059\n",
       "Name: Cluster, dtype: int64"
      ]
     },
     "execution_count": 40,
     "metadata": {},
     "output_type": "execute_result"
    }
   ],
   "source": [
    "km_best = KMeans(n_clusters=3)\n",
    "km_best.fit(X)\n",
    "X['Cluster'] = km_best.labels_\n",
    "X['Cluster'].value_counts()"
   ]
  },
  {
   "cell_type": "code",
   "execution_count": 41,
   "id": "392498d6",
   "metadata": {},
   "outputs": [
    {
     "name": "stdout",
     "output_type": "stream",
     "text": [
      "[2 1 2 ... 1 1 1]\n"
     ]
    }
   ],
   "source": [
    "kmeans = KMeans(n_clusters= 3)\n",
    "y_kmeans= kmeans.fit_predict(X)\n",
    "print(y_kmeans)"
   ]
  },
  {
   "cell_type": "code",
   "execution_count": 44,
   "id": "5fdb239e",
   "metadata": {},
   "outputs": [],
   "source": [
    "X = X.values"
   ]
  },
  {
   "cell_type": "code",
   "execution_count": 45,
   "id": "4fc9932a",
   "metadata": {},
   "outputs": [
    {
     "ename": "NameError",
     "evalue": "name 'label' is not defined",
     "output_type": "error",
     "traceback": [
      "\u001b[1;31m---------------------------------------------------------------------------\u001b[0m",
      "\u001b[1;31mNameError\u001b[0m                                 Traceback (most recent call last)",
      "Input \u001b[1;32mIn [45]\u001b[0m, in \u001b[0;36m<cell line: 5>\u001b[1;34m()\u001b[0m\n\u001b[0;32m      3\u001b[0m \u001b[38;5;66;03m#plotting the results:\u001b[39;00m\n\u001b[0;32m      5\u001b[0m \u001b[38;5;28;01mfor\u001b[39;00m i \u001b[38;5;129;01min\u001b[39;00m u_labels:\n\u001b[1;32m----> 6\u001b[0m     plt\u001b[38;5;241m.\u001b[39mscatter(X[\u001b[43mlabel\u001b[49m \u001b[38;5;241m==\u001b[39m i , \u001b[38;5;241m0\u001b[39m] , X[label \u001b[38;5;241m==\u001b[39m i , \u001b[38;5;241m1\u001b[39m] , label \u001b[38;5;241m=\u001b[39m i)\n\u001b[0;32m      7\u001b[0m plt\u001b[38;5;241m.\u001b[39mlegend()\n\u001b[0;32m      8\u001b[0m plt\u001b[38;5;241m.\u001b[39mshow()\n",
      "\u001b[1;31mNameError\u001b[0m: name 'label' is not defined"
     ]
    }
   ],
   "source": [
    "u_labels = np.unique(y_kmeans)\n",
    " \n",
    "#plotting the results:\n",
    " \n",
    "for i in u_labels:\n",
    "    plt.scatter(X[label == i , 0] , X[label == i , 1] , label = i)\n",
    "plt.legend()\n",
    "plt.show()"
   ]
  },
  {
   "cell_type": "markdown",
   "id": "e85b9a5c",
   "metadata": {},
   "source": [
    "## Hierarchical Clustering\n"
   ]
  },
  {
   "cell_type": "code",
   "execution_count": 46,
   "id": "80b166ae",
   "metadata": {},
   "outputs": [
    {
     "data": {
      "text/html": [
       "<div>\n",
       "<style scoped>\n",
       "    .dataframe tbody tr th:only-of-type {\n",
       "        vertical-align: middle;\n",
       "    }\n",
       "\n",
       "    .dataframe tbody tr th {\n",
       "        vertical-align: top;\n",
       "    }\n",
       "\n",
       "    .dataframe thead th {\n",
       "        text-align: right;\n",
       "    }\n",
       "</style>\n",
       "<table border=\"1\" class=\"dataframe\">\n",
       "  <thead>\n",
       "    <tr style=\"text-align: right;\">\n",
       "      <th></th>\n",
       "      <th>Administrative</th>\n",
       "      <th>Administrative_Duration</th>\n",
       "      <th>Informational</th>\n",
       "      <th>Informational_Duration</th>\n",
       "      <th>ProductRelated</th>\n",
       "      <th>ProductRelated_Duration</th>\n",
       "      <th>BounceRates</th>\n",
       "      <th>ExitRates</th>\n",
       "      <th>PageValues</th>\n",
       "      <th>SpecialDay</th>\n",
       "      <th>OperatingSystems</th>\n",
       "      <th>Browser</th>\n",
       "      <th>Region</th>\n",
       "      <th>TrafficType</th>\n",
       "    </tr>\n",
       "  </thead>\n",
       "  <tbody>\n",
       "    <tr>\n",
       "      <th>0</th>\n",
       "      <td>-0.696993</td>\n",
       "      <td>-0.457191</td>\n",
       "      <td>-0.396478</td>\n",
       "      <td>-0.244931</td>\n",
       "      <td>-0.691003</td>\n",
       "      <td>-0.624348</td>\n",
       "      <td>3.667189</td>\n",
       "      <td>3.229316</td>\n",
       "      <td>-0.317178</td>\n",
       "      <td>-0.308821</td>\n",
       "      <td>-1.233426</td>\n",
       "      <td>-0.790293</td>\n",
       "      <td>-0.894178</td>\n",
       "      <td>-0.762629</td>\n",
       "    </tr>\n",
       "    <tr>\n",
       "      <th>1</th>\n",
       "      <td>-0.696993</td>\n",
       "      <td>-0.457191</td>\n",
       "      <td>-0.396478</td>\n",
       "      <td>-0.244931</td>\n",
       "      <td>-0.668518</td>\n",
       "      <td>-0.590903</td>\n",
       "      <td>-0.457683</td>\n",
       "      <td>1.171473</td>\n",
       "      <td>-0.317178</td>\n",
       "      <td>-0.308821</td>\n",
       "      <td>-0.136078</td>\n",
       "      <td>-0.207952</td>\n",
       "      <td>-0.894178</td>\n",
       "      <td>-0.514182</td>\n",
       "    </tr>\n",
       "    <tr>\n",
       "      <th>2</th>\n",
       "      <td>-0.696993</td>\n",
       "      <td>-0.457191</td>\n",
       "      <td>-0.396478</td>\n",
       "      <td>-0.244931</td>\n",
       "      <td>-0.691003</td>\n",
       "      <td>-0.624348</td>\n",
       "      <td>3.667189</td>\n",
       "      <td>3.229316</td>\n",
       "      <td>-0.317178</td>\n",
       "      <td>-0.308821</td>\n",
       "      <td>2.058618</td>\n",
       "      <td>-0.790293</td>\n",
       "      <td>2.437081</td>\n",
       "      <td>-0.265735</td>\n",
       "    </tr>\n",
       "    <tr>\n",
       "      <th>3</th>\n",
       "      <td>-0.696993</td>\n",
       "      <td>-0.457191</td>\n",
       "      <td>-0.396478</td>\n",
       "      <td>-0.244931</td>\n",
       "      <td>-0.668518</td>\n",
       "      <td>-0.622954</td>\n",
       "      <td>0.573535</td>\n",
       "      <td>1.994610</td>\n",
       "      <td>-0.317178</td>\n",
       "      <td>-0.308821</td>\n",
       "      <td>0.961270</td>\n",
       "      <td>-0.207952</td>\n",
       "      <td>-0.477771</td>\n",
       "      <td>-0.017289</td>\n",
       "    </tr>\n",
       "    <tr>\n",
       "      <th>4</th>\n",
       "      <td>-0.696993</td>\n",
       "      <td>-0.457191</td>\n",
       "      <td>-0.396478</td>\n",
       "      <td>-0.244931</td>\n",
       "      <td>-0.488636</td>\n",
       "      <td>-0.296430</td>\n",
       "      <td>-0.045196</td>\n",
       "      <td>0.142551</td>\n",
       "      <td>-0.317178</td>\n",
       "      <td>-0.308821</td>\n",
       "      <td>0.961270</td>\n",
       "      <td>0.374389</td>\n",
       "      <td>-0.894178</td>\n",
       "      <td>-0.017289</td>\n",
       "    </tr>\n",
       "  </tbody>\n",
       "</table>\n",
       "</div>"
      ],
      "text/plain": [
       "   Administrative  Administrative_Duration  Informational  \\\n",
       "0       -0.696993                -0.457191      -0.396478   \n",
       "1       -0.696993                -0.457191      -0.396478   \n",
       "2       -0.696993                -0.457191      -0.396478   \n",
       "3       -0.696993                -0.457191      -0.396478   \n",
       "4       -0.696993                -0.457191      -0.396478   \n",
       "\n",
       "   Informational_Duration  ProductRelated  ProductRelated_Duration  \\\n",
       "0               -0.244931       -0.691003                -0.624348   \n",
       "1               -0.244931       -0.668518                -0.590903   \n",
       "2               -0.244931       -0.691003                -0.624348   \n",
       "3               -0.244931       -0.668518                -0.622954   \n",
       "4               -0.244931       -0.488636                -0.296430   \n",
       "\n",
       "   BounceRates  ExitRates  PageValues  SpecialDay  OperatingSystems   Browser  \\\n",
       "0     3.667189   3.229316   -0.317178   -0.308821         -1.233426 -0.790293   \n",
       "1    -0.457683   1.171473   -0.317178   -0.308821         -0.136078 -0.207952   \n",
       "2     3.667189   3.229316   -0.317178   -0.308821          2.058618 -0.790293   \n",
       "3     0.573535   1.994610   -0.317178   -0.308821          0.961270 -0.207952   \n",
       "4    -0.045196   0.142551   -0.317178   -0.308821          0.961270  0.374389   \n",
       "\n",
       "     Region  TrafficType  \n",
       "0 -0.894178    -0.762629  \n",
       "1 -0.894178    -0.514182  \n",
       "2  2.437081    -0.265735  \n",
       "3 -0.477771    -0.017289  \n",
       "4 -0.894178    -0.017289  "
      ]
     },
     "execution_count": 46,
     "metadata": {},
     "output_type": "execute_result"
    }
   ],
   "source": [
    "#X = df_num_scaled.join(df_cat_dummy)\n",
    "X = df_num_scaled\n",
    "X.head()"
   ]
  },
  {
   "cell_type": "code",
   "execution_count": 47,
   "id": "5e6cb98f",
   "metadata": {},
   "outputs": [
    {
     "data": {
      "image/png": "[encoded data removed]",
      "text/plain": [
       "<Figure size 720x504 with 1 Axes>"
      ]
     },
     "metadata": {
      "needs_background": "light"
     },
     "output_type": "display_data"
    }
   ],
   "source": [
    "from scipy.cluster.hierarchy import linkage, dendrogram\n",
    "\n",
    "link_mat = linkage(X, method ='ward')\n",
    "\n",
    "dendrogram(link_mat)\n",
    "plt.show()\n"
   ]
  },
  {
   "cell_type": "code",
   "execution_count": 48,
   "id": "90b36155",
   "metadata": {},
   "outputs": [
    {
     "data": {
      "text/html": [
       "<div>\n",
       "<style scoped>\n",
       "    .dataframe tbody tr th:only-of-type {\n",
       "        vertical-align: middle;\n",
       "    }\n",
       "\n",
       "    .dataframe tbody tr th {\n",
       "        vertical-align: top;\n",
       "    }\n",
       "\n",
       "    .dataframe thead th {\n",
       "        text-align: right;\n",
       "    }\n",
       "</style>\n",
       "<table border=\"1\" class=\"dataframe\">\n",
       "  <thead>\n",
       "    <tr style=\"text-align: right;\">\n",
       "      <th></th>\n",
       "      <th>Administrative</th>\n",
       "      <th>Administrative_Duration</th>\n",
       "      <th>Informational</th>\n",
       "      <th>Informational_Duration</th>\n",
       "      <th>ProductRelated</th>\n",
       "      <th>ProductRelated_Duration</th>\n",
       "      <th>BounceRates</th>\n",
       "      <th>ExitRates</th>\n",
       "      <th>PageValues</th>\n",
       "      <th>SpecialDay</th>\n",
       "      <th>OperatingSystems</th>\n",
       "      <th>Browser</th>\n",
       "      <th>Region</th>\n",
       "      <th>TrafficType</th>\n",
       "      <th>Cluster</th>\n",
       "    </tr>\n",
       "  </thead>\n",
       "  <tbody>\n",
       "    <tr>\n",
       "      <th>0</th>\n",
       "      <td>-0.696993</td>\n",
       "      <td>-0.457191</td>\n",
       "      <td>-0.396478</td>\n",
       "      <td>-0.244931</td>\n",
       "      <td>-0.691003</td>\n",
       "      <td>-0.624348</td>\n",
       "      <td>3.667189</td>\n",
       "      <td>3.229316</td>\n",
       "      <td>-0.317178</td>\n",
       "      <td>-0.308821</td>\n",
       "      <td>-1.233426</td>\n",
       "      <td>-0.790293</td>\n",
       "      <td>-0.894178</td>\n",
       "      <td>-0.762629</td>\n",
       "      <td>1</td>\n",
       "    </tr>\n",
       "    <tr>\n",
       "      <th>1</th>\n",
       "      <td>-0.696993</td>\n",
       "      <td>-0.457191</td>\n",
       "      <td>-0.396478</td>\n",
       "      <td>-0.244931</td>\n",
       "      <td>-0.668518</td>\n",
       "      <td>-0.590903</td>\n",
       "      <td>-0.457683</td>\n",
       "      <td>1.171473</td>\n",
       "      <td>-0.317178</td>\n",
       "      <td>-0.308821</td>\n",
       "      <td>-0.136078</td>\n",
       "      <td>-0.207952</td>\n",
       "      <td>-0.894178</td>\n",
       "      <td>-0.514182</td>\n",
       "      <td>0</td>\n",
       "    </tr>\n",
       "    <tr>\n",
       "      <th>2</th>\n",
       "      <td>-0.696993</td>\n",
       "      <td>-0.457191</td>\n",
       "      <td>-0.396478</td>\n",
       "      <td>-0.244931</td>\n",
       "      <td>-0.691003</td>\n",
       "      <td>-0.624348</td>\n",
       "      <td>3.667189</td>\n",
       "      <td>3.229316</td>\n",
       "      <td>-0.317178</td>\n",
       "      <td>-0.308821</td>\n",
       "      <td>2.058618</td>\n",
       "      <td>-0.790293</td>\n",
       "      <td>2.437081</td>\n",
       "      <td>-0.265735</td>\n",
       "      <td>1</td>\n",
       "    </tr>\n",
       "    <tr>\n",
       "      <th>3</th>\n",
       "      <td>-0.696993</td>\n",
       "      <td>-0.457191</td>\n",
       "      <td>-0.396478</td>\n",
       "      <td>-0.244931</td>\n",
       "      <td>-0.668518</td>\n",
       "      <td>-0.622954</td>\n",
       "      <td>0.573535</td>\n",
       "      <td>1.994610</td>\n",
       "      <td>-0.317178</td>\n",
       "      <td>-0.308821</td>\n",
       "      <td>0.961270</td>\n",
       "      <td>-0.207952</td>\n",
       "      <td>-0.477771</td>\n",
       "      <td>-0.017289</td>\n",
       "      <td>0</td>\n",
       "    </tr>\n",
       "    <tr>\n",
       "      <th>4</th>\n",
       "      <td>-0.696993</td>\n",
       "      <td>-0.457191</td>\n",
       "      <td>-0.396478</td>\n",
       "      <td>-0.244931</td>\n",
       "      <td>-0.488636</td>\n",
       "      <td>-0.296430</td>\n",
       "      <td>-0.045196</td>\n",
       "      <td>0.142551</td>\n",
       "      <td>-0.317178</td>\n",
       "      <td>-0.308821</td>\n",
       "      <td>0.961270</td>\n",
       "      <td>0.374389</td>\n",
       "      <td>-0.894178</td>\n",
       "      <td>-0.017289</td>\n",
       "      <td>0</td>\n",
       "    </tr>\n",
       "    <tr>\n",
       "      <th>...</th>\n",
       "      <td>...</td>\n",
       "      <td>...</td>\n",
       "      <td>...</td>\n",
       "      <td>...</td>\n",
       "      <td>...</td>\n",
       "      <td>...</td>\n",
       "      <td>...</td>\n",
       "      <td>...</td>\n",
       "      <td>...</td>\n",
       "      <td>...</td>\n",
       "      <td>...</td>\n",
       "      <td>...</td>\n",
       "      <td>...</td>\n",
       "      <td>...</td>\n",
       "      <td>...</td>\n",
       "    </tr>\n",
       "    <tr>\n",
       "      <th>12325</th>\n",
       "      <td>0.206173</td>\n",
       "      <td>0.363075</td>\n",
       "      <td>-0.396478</td>\n",
       "      <td>-0.244931</td>\n",
       "      <td>0.478227</td>\n",
       "      <td>0.307822</td>\n",
       "      <td>-0.310366</td>\n",
       "      <td>-0.288966</td>\n",
       "      <td>0.342125</td>\n",
       "      <td>-0.308821</td>\n",
       "      <td>2.058618</td>\n",
       "      <td>2.121412</td>\n",
       "      <td>-0.894178</td>\n",
       "      <td>-0.762629</td>\n",
       "      <td>0</td>\n",
       "    </tr>\n",
       "    <tr>\n",
       "      <th>12326</th>\n",
       "      <td>-0.696993</td>\n",
       "      <td>-0.457191</td>\n",
       "      <td>-0.396478</td>\n",
       "      <td>-0.244931</td>\n",
       "      <td>-0.601062</td>\n",
       "      <td>-0.380957</td>\n",
       "      <td>-0.457683</td>\n",
       "      <td>-0.447364</td>\n",
       "      <td>-0.317178</td>\n",
       "      <td>-0.308821</td>\n",
       "      <td>0.961270</td>\n",
       "      <td>-0.207952</td>\n",
       "      <td>-0.894178</td>\n",
       "      <td>0.976499</td>\n",
       "      <td>0</td>\n",
       "    </tr>\n",
       "    <tr>\n",
       "      <th>12327</th>\n",
       "      <td>-0.696993</td>\n",
       "      <td>-0.457191</td>\n",
       "      <td>-0.396478</td>\n",
       "      <td>-0.244931</td>\n",
       "      <td>-0.578577</td>\n",
       "      <td>-0.528063</td>\n",
       "      <td>1.261014</td>\n",
       "      <td>0.897093</td>\n",
       "      <td>-0.317178</td>\n",
       "      <td>-0.308821</td>\n",
       "      <td>0.961270</td>\n",
       "      <td>-0.207952</td>\n",
       "      <td>-0.894178</td>\n",
       "      <td>2.218733</td>\n",
       "      <td>0</td>\n",
       "    </tr>\n",
       "    <tr>\n",
       "      <th>12328</th>\n",
       "      <td>0.507228</td>\n",
       "      <td>-0.032916</td>\n",
       "      <td>-0.396478</td>\n",
       "      <td>-0.244931</td>\n",
       "      <td>-0.376210</td>\n",
       "      <td>-0.443536</td>\n",
       "      <td>-0.457683</td>\n",
       "      <td>-0.453140</td>\n",
       "      <td>-0.317178</td>\n",
       "      <td>-0.308821</td>\n",
       "      <td>-0.136078</td>\n",
       "      <td>-0.207952</td>\n",
       "      <td>-0.061364</td>\n",
       "      <td>1.721839</td>\n",
       "      <td>0</td>\n",
       "    </tr>\n",
       "    <tr>\n",
       "      <th>12329</th>\n",
       "      <td>-0.696993</td>\n",
       "      <td>-0.457191</td>\n",
       "      <td>-0.396478</td>\n",
       "      <td>-0.244931</td>\n",
       "      <td>-0.646033</td>\n",
       "      <td>-0.613243</td>\n",
       "      <td>-0.457683</td>\n",
       "      <td>0.485525</td>\n",
       "      <td>-0.317178</td>\n",
       "      <td>-0.308821</td>\n",
       "      <td>0.961270</td>\n",
       "      <td>-0.207952</td>\n",
       "      <td>-0.894178</td>\n",
       "      <td>-0.514182</td>\n",
       "      <td>0</td>\n",
       "    </tr>\n",
       "  </tbody>\n",
       "</table>\n",
       "<p>12330 rows × 15 columns</p>\n",
       "</div>"
      ],
      "text/plain": [
       "       Administrative  Administrative_Duration  Informational  \\\n",
       "0           -0.696993                -0.457191      -0.396478   \n",
       "1           -0.696993                -0.457191      -0.396478   \n",
       "2           -0.696993                -0.457191      -0.396478   \n",
       "3           -0.696993                -0.457191      -0.396478   \n",
       "4           -0.696993                -0.457191      -0.396478   \n",
       "...               ...                      ...            ...   \n",
       "12325        0.206173                 0.363075      -0.396478   \n",
       "12326       -0.696993                -0.457191      -0.396478   \n",
       "12327       -0.696993                -0.457191      -0.396478   \n",
       "12328        0.507228                -0.032916      -0.396478   \n",
       "12329       -0.696993                -0.457191      -0.396478   \n",
       "\n",
       "       Informational_Duration  ProductRelated  ProductRelated_Duration  \\\n",
       "0                   -0.244931       -0.691003                -0.624348   \n",
       "1                   -0.244931       -0.668518                -0.590903   \n",
       "2                   -0.244931       -0.691003                -0.624348   \n",
       "3                   -0.244931       -0.668518                -0.622954   \n",
       "4                   -0.244931       -0.488636                -0.296430   \n",
       "...                       ...             ...                      ...   \n",
       "12325               -0.244931        0.478227                 0.307822   \n",
       "12326               -0.244931       -0.601062                -0.380957   \n",
       "12327               -0.244931       -0.578577                -0.528063   \n",
       "12328               -0.244931       -0.376210                -0.443536   \n",
       "12329               -0.244931       -0.646033                -0.613243   \n",
       "\n",
       "       BounceRates  ExitRates  PageValues  SpecialDay  OperatingSystems  \\\n",
       "0         3.667189   3.229316   -0.317178   -0.308821         -1.233426   \n",
       "1        -0.457683   1.171473   -0.317178   -0.308821         -0.136078   \n",
       "2         3.667189   3.229316   -0.317178   -0.308821          2.058618   \n",
       "3         0.573535   1.994610   -0.317178   -0.308821          0.961270   \n",
       "4        -0.045196   0.142551   -0.317178   -0.308821          0.961270   \n",
       "...            ...        ...         ...         ...               ...   \n",
       "12325    -0.310366  -0.288966    0.342125   -0.308821          2.058618   \n",
       "12326    -0.457683  -0.447364   -0.317178   -0.308821          0.961270   \n",
       "12327     1.261014   0.897093   -0.317178   -0.308821          0.961270   \n",
       "12328    -0.457683  -0.453140   -0.317178   -0.308821         -0.136078   \n",
       "12329    -0.457683   0.485525   -0.317178   -0.308821          0.961270   \n",
       "\n",
       "        Browser    Region  TrafficType  Cluster  \n",
       "0     -0.790293 -0.894178    -0.762629        1  \n",
       "1     -0.207952 -0.894178    -0.514182        0  \n",
       "2     -0.790293  2.437081    -0.265735        1  \n",
       "3     -0.207952 -0.477771    -0.017289        0  \n",
       "4      0.374389 -0.894178    -0.017289        0  \n",
       "...         ...       ...          ...      ...  \n",
       "12325  2.121412 -0.894178    -0.762629        0  \n",
       "12326 -0.207952 -0.894178     0.976499        0  \n",
       "12327 -0.207952 -0.894178     2.218733        0  \n",
       "12328 -0.207952 -0.061364     1.721839        0  \n",
       "12329 -0.207952 -0.894178    -0.514182        0  \n",
       "\n",
       "[12330 rows x 15 columns]"
      ]
     },
     "execution_count": 48,
     "metadata": {},
     "output_type": "execute_result"
    }
   ],
   "source": [
    "from sklearn.cluster import AgglomerativeClustering\n",
    "\n",
    "agg = AgglomerativeClustering(n_clusters = 2, linkage = 'ward')\n",
    "agg.fit(X)\n",
    "\n",
    "X['Cluster'] = agg.labels_\n",
    "X"
   ]
  },
  {
   "cell_type": "code",
   "execution_count": null,
   "id": "c29e4ec4",
   "metadata": {},
   "outputs": [],
   "source": []
  }
 ],
 "metadata": {
  "kernelspec": {
   "display_name": "Python 3 (ipykernel)",
   "language": "python",
   "name": "python3"
  },
  "language_info": {
   "codemirror_mode": {
    "name": "ipython",
    "version": 3
   },
   "file_extension": ".py",
   "mimetype": "text/x-python",
   "name": "python",
   "nbconvert_exporter": "python",
   "pygments_lexer": "ipython3",
   "version": "3.9.12"
  }
 },
 "nbformat": 4,
 "nbformat_minor": 5
}
